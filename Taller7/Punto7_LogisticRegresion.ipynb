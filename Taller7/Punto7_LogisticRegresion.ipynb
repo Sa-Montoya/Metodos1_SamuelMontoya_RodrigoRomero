{
 "cells": [
  {
   "cell_type": "code",
   "execution_count": 1,
   "id": "ec05cef3",
   "metadata": {},
   "outputs": [],
   "source": [
    "import numpy as np\n",
    "import matplotlib.pyplot as plt\n",
    "from matplotlib import rc\n",
    "import pandas as pd\n",
    "import sympy as sym\n",
    "import os.path as path\n",
    "import wget"
   ]
  },
  {
   "cell_type": "code",
   "execution_count": 3,
   "id": "36c35b60",
   "metadata": {},
   "outputs": [],
   "source": [
    "file = 'Data/Sigmoid.csv'\n",
    "url = 'https://raw.githubusercontent.com/asegura4488/Database/main/MetodosComputacionalesReforma/Sigmoid.csv'\n",
    "if not path.exists(file):\n",
    "    Path_ = wget.download(url,file)\n",
    "else:\n",
    "    print('--File found---')\n",
    "    Path_ = file"
   ]
  },
  {
   "cell_type": "code",
   "execution_count": 111,
   "id": "e2eca0b6",
   "metadata": {},
   "outputs": [],
   "source": [
    "Data = pd.read_csv(Path_,sep=',')\n",
    "x = np.array(Data['x'])\n",
    "y = np.array(Data['y'])"
   ]
  },
  {
   "cell_type": "code",
   "execution_count": 5,
   "id": "a47238d0",
   "metadata": {},
   "outputs": [],
   "source": [
    "def Model(x,theta):\n",
    "    M = theta[0]/(theta[1]+np.exp(-theta[2]*x))\n",
    "    return M"
   ]
  },
  {
   "cell_type": "code",
   "execution_count": 6,
   "id": "7e33db24",
   "metadata": {},
   "outputs": [],
   "source": [
    "def Cost(x,y,M,theta):\n",
    "    cost = np.sum((y-M(x,theta))**2)\n",
    "    return cost"
   ]
  },
  {
   "cell_type": "markdown",
   "id": "6d0700aa",
   "metadata": {},
   "source": [
    "C)\n",
    "\n",
    "$\\frac{\\partial \\chi^2}{\\partial \\theta_i} = \\frac{\\partial \\chi^2}{\\partial M} \\frac{\\partial M(x_i,\\theta)}{\\partial \\theta_i}$\n",
    "$= \\sum_{i=1}^n \\Bigl(2(y_i-M(x_i,\\theta))*\\Bigl(-\\frac{\\partial M(x_i,\\theta)}{\\partial \\theta_i}\\Bigr)\\Bigr) $\n",
    "\n",
    "$= -2 \\sum_{i=1}^n \\Bigl((y_i-M(x_i,\\theta))\\Bigl(\\frac{\\partial M(x_i,\\theta)}{\\partial \\theta_i}\\Bigr)\\Bigr)$"
   ]
  },
  {
   "cell_type": "markdown",
   "id": "9c8cc013",
   "metadata": {},
   "source": [
    "D)\n",
    "\n",
    "$ \\vec{\\theta}_{j+1} = \\vec{\\theta}_j - \\gamma \\nabla_\\theta M(\\theta) = \\vec{\\theta}_j - \\gamma \\begin{bmatrix} \\frac{\\partial M}{\\partial \\theta_0} \\\\ \\frac{\\partial M}{\\partial \\theta_1} \\\\ \\frac{\\partial M}{\\partial \\theta_2} \\end{bmatrix} = \\vec{\\theta}_j - \\gamma \\begin{bmatrix} -2 \\sum_{i=1}^n \\Bigl((y_i-M(x_i,\\theta))\\Bigl(\\frac{\\partial M(x_i,\\theta)}{\\partial \\theta_0}\\Bigr)\\Bigr) \\\\ -2 \\sum_{i=1}^n \\Bigl((y_i-M(x_i,\\theta))\\Bigl(\\frac{\\partial M(x_i,\\theta)}{\\partial \\theta_2}\\Bigr)\\Bigr) \\\\ -2 \\sum_{i=1}^n \\Bigl((y_i-M(x_i,\\theta))\\Bigl(\\frac{\\partial M(x_i,\\theta)}{\\partial \\theta_3}\\Bigr)\\Bigr) \\end{bmatrix} = \\vec{\\theta}_j - \\gamma \\Bigl(-2 \\sum_{i=1}^n \\Bigl((y_i-M(x_i,\\theta)) \\Bigr) \\begin{bmatrix} \\frac{\\partial M}{\\partial \\theta_0} \\\\ \\frac{\\partial M}{\\partial \\theta_1} \\\\ \\frac{\\partial M}{\\partial \\theta_2} \\end{bmatrix}  = \\vec{\\theta}_j - \\gamma \\Bigl(-2 \\sum_{i=1}^n \\Bigl((y_i-M(x_i,\\theta)) \\Bigr)\\nabla_{\\theta}M(x_i,\\theta_j) $\n",
    "\n"
   ]
  },
  {
   "cell_type": "code",
   "execution_count": 132,
   "id": "96e88edc",
   "metadata": {},
   "outputs": [],
   "source": [
    "def NewTheta(x,y,gamma,M,theta,h=1e-6):\n",
    "    new_theta = np.zeros(3)\n",
    "    grad1 = (  M(x,theta+h*np.array([1,0,0])) - M(x,theta-h*np.array([1,0,0])) )/(2*h)\n",
    "    grad2 = (  M(x,theta+h*np.array([0,1,0])) - M(x,theta-h*np.array([0,1,0])) )/(2*h)\n",
    "    grad3 = (  M(x,theta+h*np.array([0,0,1])) - M(x,theta-h*np.array([0,0,1])) )/(2*h)\n",
    "    new_theta[0]=theta[0] -gamma*((-2)*np.sum((y- M(x,theta))*grad1))\n",
    "    new_theta[1]= theta[1]-gamma*((-2)*np.sum((y- M(x,theta))*grad2))\n",
    "    new_theta[2] =theta[2] -gamma*((-2)*np.sum((y- M(x,theta))*grad3))\n",
    "    return new_theta"
   ]
  },
  {
   "cell_type": "code",
   "execution_count": 170,
   "id": "4252cd4c",
   "metadata": {},
   "outputs": [],
   "source": [
    "def Descent(x,y,M,theta0,gamma,max_error = 0.01,epochs = 2e4):\n",
    "    error = 1\n",
    "    theta = theta0\n",
    "    it = 0\n",
    "    while error > max_error and it < epochs:\n",
    "        cost = Cost(x,y,M,theta)\n",
    "        theta = NewTheta(x,y,gamma,M,theta)\n",
    "        newCost = Cost(x,y,M,theta)\n",
    "        error = newCost\n",
    "        it += 1\n",
    "    if error < max_error:\n",
    "        print(' Entrenamiento completo ', error, 'iteraciones', it)\n",
    "        \n",
    "    if it == epochs:\n",
    "        print(' Entrenamiento no completado ')\n",
    "        \n",
    "    return theta, error, it"
   ]
  },
  {
   "cell_type": "code",
   "execution_count": 171,
   "id": "d5708b1d",
   "metadata": {},
   "outputs": [
    {
     "name": "stdout",
     "output_type": "stream",
     "text": [
      " Entrenamiento no completado \n"
     ]
    }
   ],
   "source": [
    "gamma_use = 5e-4\n",
    "theta0 = np.array([1,1,1])\n",
    "param,metric,it = Descent(x,y,Model,theta0,gamma_use)"
   ]
  },
  {
   "cell_type": "code",
   "execution_count": 177,
   "id": "81b34eca",
   "metadata": {},
   "outputs": [
    {
     "name": "stdout",
     "output_type": "stream",
     "text": [
      "Parametros: [4.3482335  0.96336508 2.79569992]\n"
     ]
    }
   ],
   "source": [
    "print('Parametros:',param)"
   ]
  },
  {
   "cell_type": "code",
   "execution_count": 176,
   "id": "1af29d5d",
   "metadata": {},
   "outputs": [
    {
     "data": {
      "image/png": "[encoded data removed]",
      "text/plain": [
       "<Figure size 432x288 with 1 Axes>"
      ]
     },
     "metadata": {
      "needs_background": "light"
     },
     "output_type": "display_data"
    }
   ],
   "source": [
    "X = np.linspace(-10,10,100)\n",
    "Y = Model(X,param)\n",
    "plt.scatter(x,y,c='r',label='Datos')\n",
    "plt.plot(X,Y,label = 'Modelo')\n",
    "plt.legend()\n",
    "plt.grid()"
   ]
  }
 ],
 "metadata": {
  "kernelspec": {
   "display_name": "Python 3 (ipykernel)",
   "language": "python",
   "name": "python3"
  },
  "language_info": {
   "codemirror_mode": {
    "name": "ipython",
    "version": 3
   },
   "file_extension": ".py",
   "mimetype": "text/x-python",
   "name": "python",
   "nbconvert_exporter": "python",
   "pygments_lexer": "ipython3",
   "version": "3.9.12"
  }
 },
 "nbformat": 4,
 "nbformat_minor": 5
}
