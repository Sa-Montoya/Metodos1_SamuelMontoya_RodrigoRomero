{
 "cells": [
  {
   "cell_type": "code",
   "execution_count": 280,
   "id": "dc0ab1fe",
   "metadata": {},
   "outputs": [],
   "source": [
    "import numpy as np\n",
    "import matplotlib.pyplot as plt\n",
    "import copy as copy\n"
   ]
  },
  {
   "cell_type": "code",
   "execution_count": 281,
   "id": "a2fa5e3c",
   "metadata": {},
   "outputs": [],
   "source": [
    "class SistLin:\n",
    "    \n",
    "    def __init__(self,A,b):\n",
    "        self.A=A\n",
    "        self.b=b\n",
    "        \n",
    "    \n",
    "    def GetJacobiMethod(self,itmax=1000,error = 1e-10):\n",
    "    \n",
    "        M,N = self.A.shape\n",
    "    \n",
    "        x = np.zeros(N)\n",
    "    \n",
    "        sumk = np.zeros_like(x)\n",
    "    \n",
    "        x = [13,20,-1]\n",
    "    \n",
    "        it = 0\n",
    "        \n",
    "    \n",
    "        residuo = np.linalg.norm( self.b - np.dot(self.A,x) )\n",
    "    \n",
    "        while ( residuo > error and it < itmax ):\n",
    "        \n",
    "            it += 1\n",
    "        \n",
    "            for i in range(M):\n",
    "                sum_ = 0\n",
    "                for j in range(N):\n",
    "                    if i != j:\n",
    "                        sum_ += self.A[i][j]*x[j]\n",
    "                sumk[i] = sum_\n",
    "          \n",
    "            for i in range(M):\n",
    "            \n",
    "                if self.A[i,i] != 0:\n",
    "                    x[i] = (self.b[i] - sumk[i])/self.A[i,i]\n",
    "                else:\n",
    "                    print('No invertible con Jacobi')\n",
    "        \n",
    "            \n",
    "            residuo = np.linalg.norm( self.b - np.dot(self.A,x) )\n",
    "        \n",
    "        return x,it,residuo\n",
    "    def GaussSeidel(self,itmax=10000,error = 1e-10):\n",
    "        n = self.A.shape[0]\n",
    "        x = np.zeros(n)\n",
    "        res = 1\n",
    "        it = 0\n",
    "        while it < itmax and res > error:\n",
    "            for i in range(n):\n",
    "                sumk = 0\n",
    "                for j in range(n):\n",
    "                    if j != i:\n",
    "                        sumk += (-self.A[i][j]*x[j])\n",
    "                sumk += self.b[i]\n",
    "                sumk /= self.A[i][i]\n",
    "                x[i] = sumk\n",
    "            res = np.linalg.norm( self.b - np.dot(self.A,x) )\n",
    "            it += 1\n",
    "        return x,it,res\n",
    "    "
   ]
  },
  {
   "cell_type": "code",
   "execution_count": 282,
   "id": "ef52696a",
   "metadata": {},
   "outputs": [],
   "source": [
    "M = np.array([[3,-1,-1],[-1.,3.,1.],[2,1,4]])\n",
    "\n",
    "b = np.array([1.,3.,7.])\n"
   ]
  },
  {
   "cell_type": "markdown",
   "id": "275d3b87",
   "metadata": {},
   "source": [
    "Jacobi"
   ]
  },
  {
   "cell_type": "code",
   "execution_count": 283,
   "id": "222ddbe6",
   "metadata": {},
   "outputs": [],
   "source": [
    "sist=SistLin(M,b)"
   ]
  },
  {
   "cell_type": "code",
   "execution_count": 284,
   "id": "7b98e3fa",
   "metadata": {},
   "outputs": [],
   "source": [
    "Xsol,it,error = sist.GetJacobiMethod()"
   ]
  },
  {
   "cell_type": "code",
   "execution_count": 285,
   "id": "602fe41d",
   "metadata": {},
   "outputs": [
    {
     "name": "stdout",
     "output_type": "stream",
     "text": [
      "26 3.367400148824269e-11\n"
     ]
    },
    {
     "data": {
      "text/plain": [
       "([1.0000000000012628, 1.0000000000109328, 0.9999999999902489], None)"
      ]
     },
     "execution_count": 285,
     "metadata": {},
     "output_type": "execute_result"
    }
   ],
   "source": [
    "Xsol, print(it,error)"
   ]
  },
  {
   "cell_type": "markdown",
   "id": "e6d8cdd8",
   "metadata": {},
   "source": [
    "Gauss Seidel"
   ]
  },
  {
   "cell_type": "code",
   "execution_count": 286,
   "id": "2564f2fd",
   "metadata": {},
   "outputs": [],
   "source": [
    "Xsol2,it2,error2 = sist.GaussSeidel()"
   ]
  },
  {
   "cell_type": "code",
   "execution_count": 287,
   "id": "fa96b4ea",
   "metadata": {},
   "outputs": [
    {
     "name": "stdout",
     "output_type": "stream",
     "text": [
      "18 5.8030712832710874e-11\n"
     ]
    },
    {
     "data": {
      "text/plain": [
       "(array([1., 1., 1.]), None)"
      ]
     },
     "execution_count": 287,
     "metadata": {},
     "output_type": "execute_result"
    }
   ],
   "source": [
    "Xsol2, print(it2,error2)"
   ]
  },
  {
   "cell_type": "markdown",
   "id": "5479930d",
   "metadata": {},
   "source": [
    "Solucion\n"
   ]
  },
  {
   "cell_type": "code",
   "execution_count": 288,
   "id": "69161a8f",
   "metadata": {},
   "outputs": [
    {
     "data": {
      "text/plain": [
       "array([1., 1., 1.])"
      ]
     },
     "execution_count": 288,
     "metadata": {},
     "output_type": "execute_result"
    }
   ],
   "source": [
    "np.linalg.solve(M,b)"
   ]
  }
 ],
 "metadata": {
  "kernelspec": {
   "display_name": "Python 3 (ipykernel)",
   "language": "python",
   "name": "python3"
  },
  "language_info": {
   "codemirror_mode": {
    "name": "ipython",
    "version": 3
   },
   "file_extension": ".py",
   "mimetype": "text/x-python",
   "name": "python",
   "nbconvert_exporter": "python",
   "pygments_lexer": "ipython3",
   "version": "3.9.12"
  }
 },
 "nbformat": 4,
 "nbformat_minor": 5
}
