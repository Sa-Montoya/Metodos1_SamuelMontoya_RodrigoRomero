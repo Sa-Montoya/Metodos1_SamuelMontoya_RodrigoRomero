{
 "cells": [
  {
   "cell_type": "code",
   "execution_count": 1,
   "id": "2a2b3234",
   "metadata": {},
   "outputs": [],
   "source": [
    "Datos=\"Datos4.txt\"\n",
    "def DatosString(a:str):\n",
    "    lista=[]\n",
    "    abrir=open(a,\"r\")\n",
    "    while abrir.readline() != \"\":\n",
    "        coords=abrir.readline().split()\n",
    "        coords[0]= float(coords[0])\n",
    "        coords[1]=float(coords[1])\n",
    "        lista.append(coords)\n",
    "    return lista\n",
    "        \n",
    "lista=DatosString(Datos)\n",
    "\n"
   ]
  },
  {
   "cell_type": "code",
   "execution_count": 21,
   "id": "f0cb7037",
   "metadata": {},
   "outputs": [],
   "source": [
    "def LeerMax(lista:list):\n",
    "    final=[]\n",
    "    for i in range(0,len(lista)):\n",
    "        \n",
    "        if (i>0) and (i<len(lista)-1):\n",
    "            if lista[i][1]>lista[i-1][1] and lista[i][1]>lista[i+1][1]:\n",
    "                final.append(lista[i])\n",
    "        \n",
    "    return final\n",
    "                \n",
    "        \n",
    "        \n",
    "        \n",
    "        "
   ]
  },
  {
   "cell_type": "code",
   "execution_count": 22,
   "id": "c886a45c",
   "metadata": {},
   "outputs": [
    {
     "data": {
      "text/plain": [
       "[[3.3591918332968, 1.03554],\n",
       " [3.38222213624977, 1.045406],\n",
       " [3.40525243920275, 1.030349],\n",
       " [3.42828274215572, 1.035833],\n",
       " [3.4513130451087, 1.02287],\n",
       " [3.46666658041068, 1.013802],\n",
       " [3.50505041866564, 1.020233],\n",
       " [3.5357574892696, 1.02666],\n",
       " [3.55878779222258, 1.015367],\n",
       " [3.58949486282655, 1.040716],\n",
       " [3.62020193343051, 1.027063],\n",
       " [3.64323223638349, 1.060527],\n",
       " [3.67393930698745, 1.051431],\n",
       " [3.70464637759142, 1.089617],\n",
       " [3.7276766805444, 1.292157],\n",
       " [3.78909082175233, 1.068328],\n",
       " [3.80444435705431, 1.102898],\n",
       " [3.82747466000729, 1.061595],\n",
       " [3.85050496296026, 1.0171],\n",
       " [3.86585849826225, 1.044742],\n",
       " [3.89656556886621, 1.052629],\n",
       " [3.92727263947018, 1.030706],\n",
       " [3.95030294242316, 0.9971942],\n",
       " [3.97333324537613, 1.008569],\n",
       " [3.99636354832911, 1.041762],\n",
       " [4.04242415423506, 1.129273],\n",
       " [4.07313122483902, 1.653857]]"
      ]
     },
     "execution_count": 22,
     "metadata": {},
     "output_type": "execute_result"
    }
   ],
   "source": [
    "LeerMax(lista)\n",
    "\n"
   ]
  },
  {
   "cell_type": "code",
   "execution_count": null,
   "id": "8063aa89",
   "metadata": {},
   "outputs": [],
   "source": []
  },
  {
   "cell_type": "code",
   "execution_count": null,
   "id": "0535f2fd",
   "metadata": {},
   "outputs": [],
   "source": []
  },
  {
   "cell_type": "code",
   "execution_count": null,
   "id": "30e3e7d6",
   "metadata": {},
   "outputs": [],
   "source": []
  },
  {
   "cell_type": "code",
   "execution_count": null,
   "id": "6dfa4894",
   "metadata": {},
   "outputs": [],
   "source": []
  }
 ],
 "metadata": {
  "kernelspec": {
   "display_name": "Python 3 (ipykernel)",
   "language": "python",
   "name": "python3"
  },
  "language_info": {
   "codemirror_mode": {
    "name": "ipython",
    "version": 3
   },
   "file_extension": ".py",
   "mimetype": "text/x-python",
   "name": "python",
   "nbconvert_exporter": "python",
   "pygments_lexer": "ipython3",
   "version": "3.9.12"
  }
 },
 "nbformat": 4,
 "nbformat_minor": 5
}
