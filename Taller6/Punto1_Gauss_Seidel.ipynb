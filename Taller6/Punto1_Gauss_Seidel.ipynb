{
 "cells": [
  {
   "cell_type": "code",
   "execution_count": 11,
   "id": "ae45113a",
   "metadata": {},
   "outputs": [],
   "source": [
    "import numpy as np\n",
    "import matplotlib.pyplot as plt"
   ]
  },
  {
   "cell_type": "code",
   "execution_count": 12,
   "id": "34f55a6f",
   "metadata": {},
   "outputs": [],
   "source": [
    "M = np.array([[3,-1,-1],[-1.,3.,1.],[2,1,4]])\n",
    "b = np.array([1.,3.,7.])"
   ]
  },
  {
   "cell_type": "code",
   "execution_count": 13,
   "id": "c5ca1082",
   "metadata": {},
   "outputs": [],
   "source": [
    "def GaussSeidel(M,b,itmax=10000,error = 1e-10):\n",
    "    n = M.shape[0]\n",
    "    x = np.zeros(n)\n",
    "    res = 1\n",
    "    it = 0\n",
    "    while it < itmax and res > error:\n",
    "        for i in range(n):\n",
    "            sumk = 0\n",
    "            for j in range(n):\n",
    "                if j != i:\n",
    "                    sumk += (-M[i][j]*x[j])\n",
    "            sumk += b[i]\n",
    "            sumk /= M[i][i]\n",
    "            x[i] = sumk\n",
    "        res = np.linalg.norm( b - np.dot(M,x) )\n",
    "        it += 1\n",
    "    return x,it,res\n",
    "                    "
   ]
  },
  {
   "cell_type": "code",
   "execution_count": 14,
   "id": "9d9d4f3a",
   "metadata": {},
   "outputs": [],
   "source": [
    "x,it,res = GaussSeidel(M,b)"
   ]
  },
  {
   "cell_type": "code",
   "execution_count": 15,
   "id": "dde783cf",
   "metadata": {},
   "outputs": [
    {
     "data": {
      "text/plain": [
       "array([1., 1., 1.])"
      ]
     },
     "execution_count": 15,
     "metadata": {},
     "output_type": "execute_result"
    }
   ],
   "source": [
    "x"
   ]
  }
 ],
 "metadata": {
  "kernelspec": {
   "display_name": "Python 3 (ipykernel)",
   "language": "python",
   "name": "python3"
  },
  "language_info": {
   "codemirror_mode": {
    "name": "ipython",
    "version": 3
   },
   "file_extension": ".py",
   "mimetype": "text/x-python",
   "name": "python",
   "nbconvert_exporter": "python",
   "pygments_lexer": "ipython3",
   "version": "3.9.12"
  }
 },
 "nbformat": 4,
 "nbformat_minor": 5
}
