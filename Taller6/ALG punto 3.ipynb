{
 "cells": [
  {
   "cell_type": "code",
   "execution_count": 106,
   "id": "979b35dd",
   "metadata": {},
   "outputs": [],
   "source": [
    "import numpy as np\n"
   ]
  },
  {
   "cell_type": "code",
   "execution_count": 107,
   "id": "0dcea087",
   "metadata": {},
   "outputs": [],
   "source": [
    "def mult(A,B):\n",
    "    resultado=[]\n",
    "    for i in range(len(A)):\n",
    "        resultado.append([])\n",
    "        for j in range(len(B[0])):\n",
    "            resultado[i].append(0)\n",
    "    \n",
    "    for i in range(len(A)):\n",
    "        for j in range (len(B[0])):\n",
    "            for h in range (len(A[0])):\n",
    "                resultado[i][j] += A[i][h]*B[h][j]    \n",
    "            \n",
    "    return resultado"
   ]
  },
  {
   "cell_type": "code",
   "execution_count": 108,
   "id": "fd4b857b",
   "metadata": {},
   "outputs": [],
   "source": [
    "A=[[1,0,0],[5,1,0],[-2,3,1]]\n",
    "B=[[4,-2,1],[0,3,7],[0,0,2]]"
   ]
  },
  {
   "cell_type": "code",
   "execution_count": 109,
   "id": "7f62459d",
   "metadata": {},
   "outputs": [
    {
     "data": {
      "text/plain": [
       "[[4, -2, 1], [20, -7, 12], [-8, 13, 21]]"
      ]
     },
     "execution_count": 109,
     "metadata": {},
     "output_type": "execute_result"
    }
   ],
   "source": [
    "mult(A,B)"
   ]
  },
  {
   "cell_type": "code",
   "execution_count": 110,
   "id": "b1bb5081",
   "metadata": {},
   "outputs": [
    {
     "data": {
      "text/plain": [
       "array([[ 4, -2,  1],\n",
       "       [20, -7, 12],\n",
       "       [-8, 13, 21]])"
      ]
     },
     "execution_count": 110,
     "metadata": {},
     "output_type": "execute_result"
    }
   ],
   "source": [
    "np.dot(A,B)"
   ]
  },
  {
   "cell_type": "code",
   "execution_count": null,
   "id": "cb60a6e1",
   "metadata": {},
   "outputs": [],
   "source": []
  },
  {
   "cell_type": "code",
   "execution_count": null,
   "id": "acc37b8f",
   "metadata": {},
   "outputs": [],
   "source": []
  },
  {
   "cell_type": "code",
   "execution_count": null,
   "id": "df897008",
   "metadata": {},
   "outputs": [],
   "source": []
  },
  {
   "cell_type": "code",
   "execution_count": null,
   "id": "344afcfa",
   "metadata": {},
   "outputs": [],
   "source": []
  }
 ],
 "metadata": {
  "kernelspec": {
   "display_name": "Python 3 (ipykernel)",
   "language": "python",
   "name": "python3"
  },
  "language_info": {
   "codemirror_mode": {
    "name": "ipython",
    "version": 3
   },
   "file_extension": ".py",
   "mimetype": "text/x-python",
   "name": "python",
   "nbconvert_exporter": "python",
   "pygments_lexer": "ipython3",
   "version": "3.9.12"
  }
 },
 "nbformat": 4,
 "nbformat_minor": 5
}
