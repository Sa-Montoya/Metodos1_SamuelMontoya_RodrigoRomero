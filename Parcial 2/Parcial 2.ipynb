{
 "cells": [
  {
   "cell_type": "code",
   "execution_count": 2,
   "id": "14dc91d9",
   "metadata": {},
   "outputs": [],
   "source": [
    "import numpy as np\n",
    "import matplotlib.pyplot as plt"
   ]
  },
  {
   "cell_type": "code",
   "execution_count": 3,
   "id": "08324407",
   "metadata": {},
   "outputs": [],
   "source": [
    "def puntoa(a,x,y):\n",
    "    return a[0][0]+a[1][0]*x+a[0][1]*y+a[1][1]*x*y\n"
   ]
  },
  {
   "cell_type": "code",
   "execution_count": 5,
   "id": "4b1d1d27",
   "metadata": {},
   "outputs": [
    {
     "data": {
      "text/plain": [
       "array([[ 1.,  1.],\n",
       "       [-1.,  1.],\n",
       "       [-1., -1.],\n",
       "       [ 1., -1.]])"
      ]
     },
     "execution_count": 5,
     "metadata": {},
     "output_type": "execute_result"
    }
   ],
   "source": [
    "position=np.zeros((4,2))\n",
    "position[0][0]=1\n",
    "position[0][1]=1\n",
    "position[1][0]=-1\n",
    "position[1][1]=1\n",
    "position[2][0]=-1\n",
    "position[2][1]=-1\n",
    "position[3][0]=1\n",
    "position[3][1]=-1\n",
    "position"
   ]
  },
  {
   "cell_type": "code",
   "execution_count": null,
   "id": "b5467ecd",
   "metadata": {},
   "outputs": [],
   "source": []
  }
 ],
 "metadata": {
  "kernelspec": {
   "display_name": "Python 3 (ipykernel)",
   "language": "python",
   "name": "python3"
  },
  "language_info": {
   "codemirror_mode": {
    "name": "ipython",
    "version": 3
   },
   "file_extension": ".py",
   "mimetype": "text/x-python",
   "name": "python",
   "nbconvert_exporter": "python",
   "pygments_lexer": "ipython3",
   "version": "3.9.12"
  }
 },
 "nbformat": 4,
 "nbformat_minor": 5
}
