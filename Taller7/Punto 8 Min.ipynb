{
 "cells": [
  {
   "cell_type": "code",
   "execution_count": 1,
   "id": "e5ca1cd0",
   "metadata": {},
   "outputs": [],
   "source": [
    "import numpy as np"
   ]
  },
  {
   "cell_type": "code",
   "execution_count": 8,
   "id": "a5165272",
   "metadata": {},
   "outputs": [],
   "source": [
    "u1=np.array([3,1,0,1])\n",
    "u2=np.array([1,2,1,1])\n",
    "u3=np.array([-1,0,2,-1])\n",
    "b=np.array([-3,-3,8,9])"
   ]
  },
  {
   "cell_type": "code",
   "execution_count": 33,
   "id": "ae19595a",
   "metadata": {},
   "outputs": [],
   "source": [
    "A=np.array([u1,u2,u3]).T"
   ]
  },
  {
   "cell_type": "code",
   "execution_count": 36,
   "id": "fc0fe5ae",
   "metadata": {},
   "outputs": [
    {
     "data": {
      "text/plain": [
       "array([-1.,  2.,  1.])"
      ]
     },
     "execution_count": 36,
     "metadata": {},
     "output_type": "execute_result"
    }
   ],
   "source": [
    "AAt=np.dot(A.T,A)\n",
    "Atb=np.dot(A.T,b)\n",
    "sol=np.linalg.solve(AAt,Atb)\n",
    "sol"
   ]
  },
  {
   "cell_type": "code",
   "execution_count": 37,
   "id": "a1132f13",
   "metadata": {},
   "outputs": [
    {
     "data": {
      "text/plain": [
       "array([-2.0000000e+00,  3.0000000e+00,  4.0000000e+00, -4.4408921e-16])"
      ]
     },
     "execution_count": 37,
     "metadata": {},
     "output_type": "execute_result"
    }
   ],
   "source": [
    "np.dot(A,sol)"
   ]
  },
  {
   "cell_type": "code",
   "execution_count": null,
   "id": "eb9fe81f",
   "metadata": {},
   "outputs": [],
   "source": []
  },
  {
   "cell_type": "code",
   "execution_count": 22,
   "id": "a2d08b7f",
   "metadata": {},
   "outputs": [],
   "source": [
    "v1=u1\n",
    "v2=u2-(((np.dot(u2,v1))/(np.dot(v1,v1))))*v1\n",
    "v3=u3-(((np.dot(u3,v1))/(np.dot(v1,v1)))*v1)-(((np.dot(u3,v2))/(np.dot(v2,v2)))*v2)\n",
    "v1=v1/np.linalg.norm(v1)\n",
    "v2=v2/np.linalg.norm(v2)\n",
    "v3=v3/np.linalg.norm(v3)\n",
    "c1=np.dot(b,v1)\n",
    "c2=np.dot(b,v2)\n",
    "c3=np.dot(b,v3)"
   ]
  },
  {
   "cell_type": "code",
   "execution_count": null,
   "id": "97cc1d1d",
   "metadata": {},
   "outputs": [],
   "source": []
  },
  {
   "cell_type": "code",
   "execution_count": 27,
   "id": "927a93c2",
   "metadata": {},
   "outputs": [],
   "source": [
    "pw=c1*v1+c2*v2+c3*v3"
   ]
  },
  {
   "cell_type": "code",
   "execution_count": 28,
   "id": "f7200e7c",
   "metadata": {},
   "outputs": [
    {
     "data": {
      "text/plain": [
       "array([-2.00000000e+00,  3.00000000e+00,  4.00000000e+00, -1.11022302e-16])"
      ]
     },
     "execution_count": 28,
     "metadata": {},
     "output_type": "execute_result"
    }
   ],
   "source": [
    "pw"
   ]
  },
  {
   "cell_type": "code",
   "execution_count": null,
   "id": "ed3b720d",
   "metadata": {},
   "outputs": [],
   "source": []
  }
 ],
 "metadata": {
  "kernelspec": {
   "display_name": "Python 3 (ipykernel)",
   "language": "python",
   "name": "python3"
  },
  "language_info": {
   "codemirror_mode": {
    "name": "ipython",
    "version": 3
   },
   "file_extension": ".py",
   "mimetype": "text/x-python",
   "name": "python",
   "nbconvert_exporter": "python",
   "pygments_lexer": "ipython3",
   "version": "3.9.12"
  }
 },
 "nbformat": 4,
 "nbformat_minor": 5
}
