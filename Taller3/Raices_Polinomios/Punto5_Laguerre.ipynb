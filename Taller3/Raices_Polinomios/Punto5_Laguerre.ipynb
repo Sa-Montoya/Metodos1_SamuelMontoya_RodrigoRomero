{
 "cells": [
  {
   "cell_type": "code",
   "execution_count": 1,
   "id": "3d98bf66",
   "metadata": {},
   "outputs": [],
   "source": [
    "import numpy as np\n",
    "import matplotlib.pyplot as plt\n",
    "import sympy as sym"
   ]
  },
  {
   "cell_type": "code",
   "execution_count": 2,
   "id": "273e2c32",
   "metadata": {},
   "outputs": [],
   "source": [
    "def Derivative(f,x,h=1e-6):\n",
    "    return (f(x+h)-f(x-h))/(2*h)"
   ]
  },
  {
   "cell_type": "code",
   "execution_count": 36,
   "id": "7bbbcd63",
   "metadata": {},
   "outputs": [],
   "source": [
    "def NewtonRaphson(f,df,xn,maxiter=1000,precision=1e-8):\n",
    "    error = 1\n",
    "    it=0\n",
    "    \n",
    "    while error > precision and it < maxiter:\n",
    "        try:\n",
    "            xn1 = xn - f(xn)/df(f,xn)\n",
    "            error = np.abs(f(xn)/df(f,xn))\n",
    "        except ZeroDivisionError:\n",
    "            print('Division por cero')  \n",
    "        xn = xn1\n",
    "        it += 1 \n",
    "    if it == maxiter:\n",
    "        return False\n",
    "    else:\n",
    "        return xn"
   ]
  },
  {
   "cell_type": "code",
   "execution_count": 18,
   "id": "ec0f2bab",
   "metadata": {},
   "outputs": [],
   "source": [
    "def GetLaguerrePoly(n):\n",
    "    x = sym.Symbol(\"x\", Real=True)\n",
    "    y = sym.Symbol('y',Real=True)\n",
    "    y = (sym.exp(-x)*x**n)\n",
    "    poly = sym.exp(x)*sym.diff(y,x,n)/(np.math.factorial(n))\n",
    "    return sym.lambdify([x],poly,'numpy')"
   ]
  },
  {
   "cell_type": "code",
   "execution_count": 40,
   "id": "259fb509",
   "metadata": {},
   "outputs": [],
   "source": [
    "def FindRoots(x,f,cifras=5):\n",
    "    Roots = np.array([])\n",
    "    for i in x:\n",
    "        root = NewtonRaphson(f,Derivative,i)\n",
    "        root = np.round(root,cifras)\n",
    "        if root not in Roots:\n",
    "            Roots = np.append(Roots,root)\n",
    "    Roots.sort()\n",
    "    return Roots"
   ]
  },
  {
   "cell_type": "code",
   "execution_count": 7,
   "id": "8e9507e9",
   "metadata": {},
   "outputs": [],
   "source": [
    "def GetAllRoots(x,n=20):\n",
    "    Laguerre = np.array([])\n",
    "    for i in range(1,n+1):\n",
    "        Roots = FindRoots(x,GetLaguerrePoly(i))\n",
    "        Laguerre = np.append(Laguerre,[(i,Roots)])    \n",
    "    return Laguerre"
   ]
  },
  {
   "cell_type": "code",
   "execution_count": 42,
   "id": "67899f97",
   "metadata": {},
   "outputs": [
    {
     "name": "stdout",
     "output_type": "stream",
     "text": [
      "Las raices de los primeros veinte (20) polinomios de Laguerre son: \n",
      "Polinomio 1 :\n",
      "1.0, \b\b \n",
      "\n",
      "Polinomio 2 :\n",
      "0.58579, 3.41421, \b\b \n",
      "\n",
      "Polinomio 3 :\n",
      "0.41577, 2.29428, 6.28995, \b\b \n",
      "\n",
      "Polinomio 4 :\n",
      "0.32255, 1.74576, 4.53662, 9.39507, \b\b \n",
      "\n",
      "Polinomio 5 :\n",
      "0.26356, 1.4134, 3.59643, 7.08581, 12.6408, \b\b \n",
      "\n",
      "Polinomio 6 :\n",
      "0.22285, 1.18893, 2.99274, 5.77514, 9.83747, 15.98287, \b\b \n",
      "\n",
      "Polinomio 7 :\n",
      "0.19304, 1.02666, 2.56788, 4.90035, 8.18215, 12.73418, 19.39573, \b\b \n",
      "\n",
      "Polinomio 8 :\n",
      "0.17028, 0.9037, 2.25109, 4.2667, 7.04591, 10.75852, 15.74068, 22.86313, \b\b \n",
      "\n",
      "Polinomio 9 :\n",
      "0.15232, 0.80722, 2.00514, 3.78347, 6.20496, 9.37299, 13.46624, 18.8336, 26.37407, \b\b \n",
      "\n",
      "Polinomio 10 :\n",
      "0.13779, 0.72945, 1.80834, 3.40143, 5.5525, 8.33015, 11.84379, 16.27926, 21.99659, 29.9207, \b\b \n",
      "\n",
      "Polinomio 11 :\n",
      "0.1258, 0.66542, 1.64715, 3.09114, 5.02928, 7.50989, 10.60595, 14.43161, 19.17886, 25.21771, 33.49719, \b\b \n",
      "\n",
      "Polinomio 12 :\n",
      "0.11572, 0.61176, 1.51261, 2.83375, 4.59923, 6.84453, 9.62132, 13.00605, 17.11686, 22.15109, 28.48797, 37.09912, \b\b \n",
      "\n",
      "Polinomio 13 :\n",
      "0.10714, 0.56613, 1.39856, 2.6166, 4.23885, 6.29226, 8.815, 11.8614, 15.51076, 19.88464, 25.18526, 31.80039, 40.72301, \b\b \n",
      "\n",
      "Polinomio 14 :\n",
      "0.09975, 0.52686, 1.30063, 2.4308, 3.9321, 5.82554, 8.14024, 10.9165, 14.21081, 18.10489, 22.72338, 28.27298, 35.14944, 44.36608, \b\b \n",
      "\n",
      "Polinomio 15 :\n",
      "0.09331, 0.49269, 1.2156, 2.26995, 3.66762, 5.42534, 7.56592, 10.12023, 13.13028, 16.65441, 20.77648, 25.62389, 31.40752, 38.53068, 48.02609, \b\b \n",
      "\n",
      "Polinomio 16 :\n",
      "0.08765, 0.4627, 1.14106, 2.12928, 3.43709, 5.07802, 7.07034, 9.43831, 12.21422, 15.44153, 19.18016, 23.51591, 28.57873, 34.5834, 41.94045, 51.70116, \b\b \n",
      "\n",
      "Polinomio 17 :\n",
      "0.08264, 0.43615, 1.07518, 2.00519, 3.23426, 4.77351, 6.63783, 8.84669, 11.42553, 14.40782, 17.83828, 21.77827, 26.31532, 31.58177, 37.79609, 45.37572, 55.38975, \b\b \n",
      "\n",
      "Polinomio 18 :\n",
      "0.07817, 0.41249, 1.01652, 1.89489, 3.05435, 4.50421, 6.25673, 8.32783, 10.73799, 13.51366, 16.68931, 20.31077, 24.44068, 29.16821, 34.62793, 41.04182, 48.83392, 59.09055, \b\b \n",
      "\n",
      "Polinomio 19 :\n",
      "0.07416, 0.39127, 0.96396, 1.79618, 2.89365, 4.26422, 5.91814, 7.86862, 10.13242, 12.73088, 15.69128, 19.04899, 22.85085, 27.16067, 32.06912, 37.71291, 44.31736, 52.3129, 62.80242, \b\b \n",
      "\n",
      "Polinomio 20 :\n",
      "0.07054, 0.37213, 0.91658, 1.70731, 2.7492, 4.04893, 5.61517, 7.45902, 9.59439, 12.0388, 14.81429, 17.9489, 21.47879, 25.4517, 29.93255, 35.01343, 40.83306, 47.61999, 55.8108, 66.52442, \b\b \n",
      "\n"
     ]
    }
   ],
   "source": [
    "x=np.linspace(0,100,300)\n",
    "find = GetAllRoots(x)\n",
    "print('Las raices de los primeros veinte (20) polinomios de Laguerre son: ')\n",
    "for i in range(0,len(find),2):\n",
    "    print('Polinomio',find[i],':')\n",
    "    for j in find[i+1]:\n",
    "        print(j,end=', ')\n",
    "    print('\\b\\b','\\n')\n",
    "    "
   ]
  }
 ],
 "metadata": {
  "kernelspec": {
   "display_name": "Python 3 (ipykernel)",
   "language": "python",
   "name": "python3"
  },
  "language_info": {
   "codemirror_mode": {
    "name": "ipython",
    "version": 3
   },
   "file_extension": ".py",
   "mimetype": "text/x-python",
   "name": "python",
   "nbconvert_exporter": "python",
   "pygments_lexer": "ipython3",
   "version": "3.9.12"
  }
 },
 "nbformat": 4,
 "nbformat_minor": 5
}
