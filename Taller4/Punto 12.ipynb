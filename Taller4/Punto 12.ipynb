{
 "cells": [
  {
   "cell_type": "code",
   "execution_count": 7,
   "id": "01bac782",
   "metadata": {},
   "outputs": [],
   "source": [
    "import numpy as np\n",
    "import matplotlib.pyplot as plt\n",
    "import sympy as sym"
   ]
  },
  {
   "cell_type": "code",
   "execution_count": 8,
   "id": "5e74a5c4",
   "metadata": {},
   "outputs": [],
   "source": [
    "def GetNewtonMethod(f,df,xn,itmax = 100000, precision=1e-12):\n",
    "    \n",
    "    error = 1.\n",
    "    it = 0\n",
    "    \n",
    "    while error > precision and it < itmax:\n",
    "        \n",
    "        try:\n",
    "            \n",
    "            xn1 = xn - f(xn)/df(xn)\n",
    "            \n",
    "           \n",
    "            error = np.abs(f(xn)/df(xn))\n",
    "        \n",
    "        except ZeroDivisionError:\n",
    "            print(\"zero division\")\n",
    "            \n",
    "        xn  = xn1\n",
    "        it += 1\n",
    "    \n",
    "    \n",
    "    \n",
    "    if it == itmax:\n",
    "        return False\n",
    "    else:\n",
    "        return xn"
   ]
  },
  {
   "cell_type": "code",
   "execution_count": 9,
   "id": "2c2c2527",
   "metadata": {},
   "outputs": [],
   "source": [
    "def GetAllRoots(f,df,x, tolerancia=9):\n",
    "    \n",
    "    Roots = np.array([])\n",
    "    \n",
    "    for i in x:\n",
    "        \n",
    "        root = GetNewtonMethod(f,df,i)\n",
    "          \n",
    "        if root != False:\n",
    "            \n",
    "            croot = np.round( root, tolerancia ) \n",
    "            \n",
    "            if croot not in Roots:\n",
    "                Roots = np.append( Roots, croot )\n",
    "                \n",
    "    \n",
    "    Roots.sort()\n",
    "    \n",
    "    return Roots"
   ]
  },
  {
   "cell_type": "code",
   "execution_count": 10,
   "id": "82737df9",
   "metadata": {},
   "outputs": [],
   "source": [
    "def GetLegendre(n):\n",
    "    \n",
    "    x = sym.Symbol('x',Real=True)\n",
    "    y = sym.Symbol('y',Real=True)\n",
    "    \n",
    "    y = (x**2 - 1)**n\n",
    "    \n",
    "    p = sym.diff(y,x,n)/(2**n * np.math.factorial(n))\n",
    "    \n",
    "    return p"
   ]
  },
  {
   "cell_type": "code",
   "execution_count": null,
   "id": "0ba39188",
   "metadata": {},
   "outputs": [],
   "source": []
  },
  {
   "cell_type": "code",
   "execution_count": 11,
   "id": "f4299444",
   "metadata": {},
   "outputs": [],
   "source": [
    "Legendre = []\n",
    "DerLegendre = []\n",
    "\n",
    "x = sym.Symbol('x',Real=True)\n",
    "n=20\n",
    "\n",
    "for i in range(n+1):\n",
    "    \n",
    "    poly = GetLegendre(i)\n",
    "    \n",
    "    Legendre.append(poly)\n",
    "    DerLegendre.append(sym.diff(poly,x,1))"
   ]
  },
  {
   "cell_type": "code",
   "execution_count": 12,
   "id": "d415d48f",
   "metadata": {},
   "outputs": [],
   "source": [
    "def GetRootsPolynomial(n,xi,poly,dpoly):\n",
    "    \n",
    "    x = sym.Symbol('x',Real=True)\n",
    "    \n",
    "    pn = sym.lambdify([x],poly[n],'numpy')\n",
    "    dpn = sym.lambdify([x],dpoly[n],'numpy')\n",
    "    Roots = GetAllRoots(pn,dpn,xi,tolerancia=8)\n",
    "    \n",
    "    return Roots"
   ]
  },
  {
   "cell_type": "code",
   "execution_count": 20,
   "id": "8e357b52",
   "metadata": {},
   "outputs": [],
   "source": [
    "xi = np.linspace(-1,1,100)\n",
    "n = 3\n",
    "Roots = GetRootsPolynomial(n,xi,Legendre,DerLegendre)"
   ]
  },
  {
   "cell_type": "code",
   "execution_count": 21,
   "id": "077196a8",
   "metadata": {},
   "outputs": [
    {
     "data": {
      "text/plain": [
       "array([-0.77459667,  0.77459667])"
      ]
     },
     "execution_count": 21,
     "metadata": {},
     "output_type": "execute_result"
    }
   ],
   "source": [
    "Roots"
   ]
  },
  {
   "cell_type": "code",
   "execution_count": 22,
   "id": "dc0d92fc",
   "metadata": {},
   "outputs": [],
   "source": [
    "def GetWeights(Roots,Dpoly):\n",
    "    \n",
    "    Weights = []\n",
    "    x = sym.Symbol('x',Real=True)\n",
    "    dpn = sym.lambdify([x],Dpoly[n],'numpy')\n",
    "    \n",
    "    for r in Roots:\n",
    "        \n",
    "        Weights.append( 2/(( 1- r**2 )*dpn(r)**2) )\n",
    "        \n",
    "    return Weights"
   ]
  },
  {
   "cell_type": "code",
   "execution_count": 23,
   "id": "cfd23ece",
   "metadata": {},
   "outputs": [
    {
     "data": {
      "text/plain": [
       "[0.5555555539234875, 0.5555555539234875]"
      ]
     },
     "execution_count": 23,
     "metadata": {},
     "output_type": "execute_result"
    }
   ],
   "source": [
    "Weights = GetWeights(Roots,DerLegendre)\n",
    "Weights"
   ]
  },
  {
   "cell_type": "code",
   "execution_count": 24,
   "id": "c07dd261",
   "metadata": {},
   "outputs": [],
   "source": [
    "a = 1\n",
    "b = 2\n",
    "f = lambda x : 1/(x**2)"
   ]
  },
  {
   "cell_type": "code",
   "execution_count": 25,
   "id": "0b94f6f6",
   "metadata": {},
   "outputs": [],
   "source": [
    "t = 0.5*((b-a)*Roots + a + b)"
   ]
  },
  {
   "cell_type": "code",
   "execution_count": 26,
   "id": "0982d884",
   "metadata": {},
   "outputs": [
    {
     "data": {
      "text/plain": [
       "0.3023431587194152"
      ]
     },
     "execution_count": 26,
     "metadata": {},
     "output_type": "execute_result"
    }
   ],
   "source": [
    "Integral = 0.5*(b-a)*np.sum( Weights*f(t) )\n",
    "Integral"
   ]
  },
  {
   "cell_type": "code",
   "execution_count": null,
   "id": "c745b9e7",
   "metadata": {},
   "outputs": [],
   "source": []
  },
  {
   "cell_type": "code",
   "execution_count": null,
   "id": "a5ccae12",
   "metadata": {},
   "outputs": [],
   "source": []
  },
  {
   "cell_type": "code",
   "execution_count": null,
   "id": "3ad31f63",
   "metadata": {},
   "outputs": [],
   "source": []
  },
  {
   "cell_type": "code",
   "execution_count": null,
   "id": "fdb3b597",
   "metadata": {},
   "outputs": [],
   "source": []
  }
 ],
 "metadata": {
  "kernelspec": {
   "display_name": "Python 3 (ipykernel)",
   "language": "python",
   "name": "python3"
  },
  "language_info": {
   "codemirror_mode": {
    "name": "ipython",
    "version": 3
   },
   "file_extension": ".py",
   "mimetype": "text/x-python",
   "name": "python",
   "nbconvert_exporter": "python",
   "pygments_lexer": "ipython3",
   "version": "3.9.12"
  }
 },
 "nbformat": 4,
 "nbformat_minor": 5
}
