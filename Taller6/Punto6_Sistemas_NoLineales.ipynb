{
 "cells": [
  {
   "cell_type": "code",
   "execution_count": 1,
   "id": "be7219bb",
   "metadata": {},
   "outputs": [],
   "source": [
    "import numpy as np\n",
    "import matplotlib.pyplot as plt"
   ]
  },
  {
   "cell_type": "code",
   "execution_count": 2,
   "id": "60972e98",
   "metadata": {},
   "outputs": [],
   "source": [
    "class SolverNoLineal:\n",
    "    def __init__(self,G,seed):\n",
    "        self.G = G\n",
    "        self.dim = len(G)\n",
    "        self.h = 1e-8\n",
    "        self.itmax = 1000\n",
    "        self.error = 1e-10\n",
    "        self.epochs=int(1e5)\n",
    "        self.seed = seed\n",
    "    def GetVector(self,r):\n",
    "        v = np.zeros(self.dim)\n",
    "        for i in range(self.dim):\n",
    "            v[i] = self.G[i](r)\n",
    "        return v\n",
    "    def Jacobian(self,r):\n",
    "        J = np.zeros((self.dim,self.dim))\n",
    "    \n",
    "        for i in range(self.dim):\n",
    "            for j in range(self.dim):\n",
    "                delta = np.zeros(self.dim)\n",
    "                delta[j] = self.h\n",
    "                J[i,j] = ( self.G[i](np.add(r,delta)) - self.G[i](np.add(r,-delta)) )/(2*self.h)\n",
    "        \n",
    "        return J.T\n",
    "    def Metric(self):\n",
    "        vec = self.GetVector(self.sol)\n",
    "        return np.linalg.norm(vec)\n",
    "    def NewtonRaphson(self):\n",
    "        self.sol = self.seed\n",
    "        self.it = 0\n",
    "        self.residuo = 1\n",
    "        while self.residuo > self.error and self.it < self.itmax:\n",
    "            self.it += 1\n",
    "            rc = self.sol\n",
    "            J = self.Jacobian(self.sol)\n",
    "            F = self.GetVector(self.sol)\n",
    "            inv_J = np.linalg.inv(J)\n",
    "            self.sol = rc - np.dot(inv_J,F)\n",
    "            self.residuo = self.Metric()\n",
    "        if self.it < self.itmax:\n",
    "            return self.sol\n",
    "        else:\n",
    "            return False\n",
    "    def GradientDescent(self,lr):\n",
    "        self.sol = self.seed\n",
    "        self.it = 0\n",
    "        self.residuo = 1\n",
    "        while self.residuo > self.error and self.it < self.epochs:\n",
    "            CF = self.Metric()\n",
    "            self.it += 1\n",
    "            rc = self.sol\n",
    "            J = self.Jacobian(rc)\n",
    "            F = self.GetVector(rc)\n",
    "            Grad = np.dot(J,F)\n",
    "            self.sol = rc - lr*Grad\n",
    "            NF = self.Metric()\n",
    "            self.residuo = np.abs(CF**2 - NF**2)/NF**2\n",
    "        if self.it < self.epochs:\n",
    "            return self.sol\n",
    "        else:\n",
    "            return False\n"
   ]
  },
  {
   "cell_type": "code",
   "execution_count": 3,
   "id": "ec172035",
   "metadata": {},
   "outputs": [],
   "source": [
    "G1=(lambda r: np.log(r[0]**2 + r[1]**2) - np.sin(r[0]*r[1]) - np.log(2) - np.log(np.pi), \\\n",
    "   lambda r: np.exp(r[0] - r[1]) + np.cos(r[0]*r[1]))"
   ]
  },
  {
   "cell_type": "code",
   "execution_count": 4,
   "id": "fb473303",
   "metadata": {},
   "outputs": [],
   "source": [
    "sist1 = SolverNoLineal(G1,np.array([2,2]))"
   ]
  },
  {
   "cell_type": "code",
   "execution_count": 5,
   "id": "bf40561a",
   "metadata": {},
   "outputs": [
    {
     "name": "stdout",
     "output_type": "stream",
     "text": [
      "[1.77245385 1.77245385] 110\n"
     ]
    }
   ],
   "source": [
    "r1_newton = sist1.NewtonRaphson()\n",
    "print(r1_newton,sist1.it)"
   ]
  },
  {
   "cell_type": "code",
   "execution_count": 6,
   "id": "9b980bc3",
   "metadata": {},
   "outputs": [
    {
     "name": "stdout",
     "output_type": "stream",
     "text": [
      "[1.77245385 1.77245385] 148\n"
     ]
    }
   ],
   "source": [
    "r1_grad = sist1.GradientDescent(1e-1)\n",
    "print(r1_grad,sist1.it)"
   ]
  },
  {
   "cell_type": "code",
   "execution_count": 7,
   "id": "8b697c45",
   "metadata": {},
   "outputs": [],
   "source": [
    "G2=(lambda r: 6*r[0] - 2*np.cos(r[1]*r[2]) - 1, \\\n",
    "   lambda r: 9*r[1] + np.sqrt(r[0]**2 + np.sin(r[2]) + 1.06) + 0.9, \\\n",
    "    lambda r: 60*r[2] + 3*np.exp(-r[0]*r[1]) + 10*np.pi - 10 )"
   ]
  },
  {
   "cell_type": "code",
   "execution_count": 8,
   "id": "cb4a2316",
   "metadata": {},
   "outputs": [],
   "source": [
    "sist2 = SolverNoLineal(G2,np.array([0,0,0]))"
   ]
  },
  {
   "cell_type": "code",
   "execution_count": 9,
   "id": "62ea1bf3",
   "metadata": {},
   "outputs": [
    {
     "name": "stdout",
     "output_type": "stream",
     "text": [
      "[ 0.49879961 -0.20587945 -0.41233964] 12\n"
     ]
    }
   ],
   "source": [
    "r2_newton = sist2.NewtonRaphson()\n",
    "print(r2_newton,sist2.it)"
   ]
  },
  {
   "cell_type": "code",
   "execution_count": 10,
   "id": "805b4185",
   "metadata": {},
   "outputs": [
    {
     "name": "stdout",
     "output_type": "stream",
     "text": [
      "[ 0.49879961 -0.20587945 -0.41233964] 8546\n"
     ]
    }
   ],
   "source": [
    "r2_grad = sist2.GradientDescent(1e-4)\n",
    "print(r2_grad,sist2.it)"
   ]
  }
 ],
 "metadata": {
  "kernelspec": {
   "display_name": "Python 3 (ipykernel)",
   "language": "python",
   "name": "python3"
  },
  "language_info": {
   "codemirror_mode": {
    "name": "ipython",
    "version": 3
   },
   "file_extension": ".py",
   "mimetype": "text/x-python",
   "name": "python",
   "nbconvert_exporter": "python",
   "pygments_lexer": "ipython3",
   "version": "3.9.12"
  }
 },
 "nbformat": 4,
 "nbformat_minor": 5
}
