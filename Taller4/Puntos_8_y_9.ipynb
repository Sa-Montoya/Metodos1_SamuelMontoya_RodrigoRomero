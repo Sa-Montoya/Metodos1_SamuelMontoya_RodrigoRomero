{
 "cells": [
  {
   "cell_type": "code",
   "execution_count": 6,
   "id": "9ef3ce1d",
   "metadata": {},
   "outputs": [],
   "source": [
    "import numpy as np\n",
    "import matplotlib.pyplot as plt\n",
    "import sympy as sym\n",
    "import sympy.printing as printing"
   ]
  },
  {
   "cell_type": "code",
   "execution_count": 4,
   "id": "02b5bb35",
   "metadata": {},
   "outputs": [],
   "source": [
    "def Cardinal(X,j,x):\n",
    "    pol = 1\n",
    "    for i in range(len(X)):\n",
    "        if i != j:\n",
    "            pol *= (x-X[i])/(X[j]-X[i])\n",
    "    return pol"
   ]
  },
  {
   "cell_type": "code",
   "execution_count": 7,
   "id": "c5966aaa",
   "metadata": {},
   "outputs": [],
   "source": [
    "def Interpolador(X,Y,x):\n",
    "    poly = 0\n",
    "    for i in range(len(X)):\n",
    "        base = Cardinal(X,i,x)\n",
    "        poly += base*Y[i]\n",
    "    return poly"
   ]
  },
  {
   "cell_type": "code",
   "execution_count": 64,
   "id": "671dfe4c",
   "metadata": {},
   "outputs": [
    {
     "name": "stdout",
     "output_type": "stream",
     "text": [
      "Polinomio interpolador:\n"
     ]
    },
    {
     "data": {
      "image/png": "[encoded data removed]",
      "text/latex": [
       "$\\displaystyle \\frac{f(a) \\left(- b + x\\right) \\left(- \\frac{2 a}{3} - \\frac{b}{3} + x\\right) \\left(- \\frac{a}{3} - \\frac{2 b}{3} + x\\right)}{\\left(\\frac{a}{3} - \\frac{b}{3}\\right) \\left(\\frac{2 a}{3} - \\frac{2 b}{3}\\right) \\left(a - b\\right)} + \\frac{f(b) \\left(- a + x\\right) \\left(- \\frac{2 a}{3} - \\frac{b}{3} + x\\right) \\left(- \\frac{a}{3} - \\frac{2 b}{3} + x\\right)}{\\left(- a + b\\right) \\left(- \\frac{2 a}{3} + \\frac{2 b}{3}\\right) \\left(- \\frac{a}{3} + \\frac{b}{3}\\right)} + \\frac{f(x_{1}) \\left(- a + x\\right) \\left(- b + x\\right) \\left(- \\frac{a}{3} - \\frac{2 b}{3} + x\\right)}{\\left(- \\frac{a}{3} + \\frac{b}{3}\\right) \\left(\\frac{a}{3} - \\frac{b}{3}\\right) \\left(\\frac{2 a}{3} - \\frac{2 b}{3}\\right)} + \\frac{f(x_{2}) \\left(- a + x\\right) \\left(- b + x\\right) \\left(- \\frac{2 a}{3} - \\frac{b}{3} + x\\right)}{\\left(- \\frac{2 a}{3} + \\frac{2 b}{3}\\right) \\left(- \\frac{a}{3} + \\frac{b}{3}\\right) \\left(\\frac{a}{3} - \\frac{b}{3}\\right)}$"
      ],
      "text/plain": [
       "              ⎛  2⋅a   b    ⎞ ⎛  a   2⋅b    ⎞                 ⎛  2⋅a   b    ⎞ \n",
       "f(a)⋅(-b + x)⋅⎜- ─── - ─ + x⎟⋅⎜- ─ - ─── + x⎟   f(b)⋅(-a + x)⋅⎜- ─── - ─ + x⎟⋅\n",
       "              ⎝   3    3    ⎠ ⎝  3    3     ⎠                 ⎝   3    3    ⎠ \n",
       "───────────────────────────────────────────── + ──────────────────────────────\n",
       "         ⎛a   b⎞ ⎛2⋅a   2⋅b⎞                                    ⎛  2⋅a   2⋅b⎞ \n",
       "         ⎜─ - ─⎟⋅⎜─── - ───⎟⋅(a - b)                   (-a + b)⋅⎜- ─── + ───⎟⋅\n",
       "         ⎝3   3⎠ ⎝ 3     3 ⎠                                    ⎝   3     3 ⎠ \n",
       "\n",
       "⎛  a   2⋅b    ⎞                              ⎛  a   2⋅b    ⎞                  \n",
       "⎜- ─ - ─── + x⎟   f(x_{1})⋅(-a + x)⋅(-b + x)⋅⎜- ─ - ─── + x⎟   f(x_{2})⋅(-a + \n",
       "⎝  3    3     ⎠                              ⎝  3    3     ⎠                  \n",
       "─────────────── + ────────────────────────────────────────── + ───────────────\n",
       "⎛  a   b⎞               ⎛  a   b⎞ ⎛a   b⎞ ⎛2⋅a   2⋅b⎞               ⎛  2⋅a   2\n",
       "⎜- ─ + ─⎟               ⎜- ─ + ─⎟⋅⎜─ - ─⎟⋅⎜─── - ───⎟               ⎜- ─── + ─\n",
       "⎝  3   3⎠               ⎝  3   3⎠ ⎝3   3⎠ ⎝ 3     3 ⎠               ⎝   3     \n",
       "\n",
       "            ⎛  2⋅a   b    ⎞\n",
       "x)⋅(-b + x)⋅⎜- ─── - ─ + x⎟\n",
       "            ⎝   3    3    ⎠\n",
       "───────────────────────────\n",
       "⋅b⎞ ⎛  a   b⎞ ⎛a   b⎞      \n",
       "──⎟⋅⎜- ─ + ─⎟⋅⎜─ - ─⎟      \n",
       "3 ⎠ ⎝  3   3⎠ ⎝3   3⎠      "
      ]
     },
     "execution_count": 64,
     "metadata": {},
     "output_type": "execute_result"
    }
   ],
   "source": [
    "x = sym.Symbol('x')\n",
    "a = sym.Symbol('a')\n",
    "b = sym.Symbol('b')\n",
    "h = sym.Symbol('h')\n",
    "#x1 = sym.Symbol('x_1')\n",
    "#x2 = sym.Symbol('x_2')\n",
    "f_a = sym.Symbol('f(a)')\n",
    "f_b = sym.Symbol('f(b)')\n",
    "f_1 = sym.Symbol('f(x_{1})')\n",
    "f_2 = sym.Symbol('f(x_{2})')\n",
    "X=np.array([a,(2*a+b)/3,(a+2*b)/3,b])\n",
    "Y=np.array([f_a,f_1,f_2,f_b])\n",
    "interpolador = Interpolador(X,Y,x)\n",
    "print('Polinomio interpolador:')\n",
    "interpolador"
   ]
  },
  {
   "cell_type": "code",
   "execution_count": 65,
   "id": "cd52595d",
   "metadata": {},
   "outputs": [
    {
     "name": "stdout",
     "output_type": "stream",
     "text": [
      "Integral:\n"
     ]
    },
    {
     "data": {
      "image/png": "[encoded data removed]",
      "text/latex": [
       "$\\displaystyle \\frac{\\left(- a + b\\right) \\left(f(a) + f(b) + 3 f(x_{1}) + 3 f(x_{2})\\right)}{8}$"
      ],
      "text/plain": [
       "(-a + b)⋅(f(a) + f(b) + 3⋅f(x_{1}) + 3⋅f(x_{2}))\n",
       "────────────────────────────────────────────────\n",
       "                       8                        "
      ]
     },
     "execution_count": 65,
     "metadata": {},
     "output_type": "execute_result"
    }
   ],
   "source": [
    "integral = sym.integrate(interpolador,(x,a,b))\n",
    "integral = sym.simplify(integral)\n",
    "integral,_ = sym.div(integral,(b-a)/8)\n",
    "integral = integral*(b-a)/(8)\n",
    "sym.init_printing()\n",
    "print('Integral:')\n",
    "integral"
   ]
  },
  {
   "cell_type": "markdown",
   "id": "9802f27b",
   "metadata": {},
   "source": [
    "Sea $h = \\frac{b-a}{3}$, entonces $(b-a) = 3h$.\n",
    "Por lo tanto, $\\int _a^b f(x)dx \\simeq \\frac{3h}{8}(f(a)+3f(x_1)+3f(x_2)+f(b))$\n",
    "Como la partición es equiespacial:\n",
    "$x_1 = a + h = a + \\frac{b-a}{3} = \\frac{3a+b-a}{3} = \\frac{2a+b}{3}$\n",
    "\n",
    "$x_2 = a + 2h = a + 2\\frac{b-a}{3} = \\frac{3a+2b-2a}{3} = \\frac{a+2b}{3}$\n",
    "\n",
    "Entonces,\n",
    "$\\int _a^b f(x)dx \\simeq \\frac{3h}{8}(f(a)+3f(\\frac{2a+b}{3})+3f(\\frac{a+2b}{3})+f(b))$"
   ]
  },
  {
   "cell_type": "markdown",
   "id": "a6c330e1",
   "metadata": {},
   "source": [
    "El error del polinomio interpolador es:\n",
    "$E(x) = \\frac{f^{(4)}(\\zeta)}{4!}(x-a)(x-(a+h))(x-(a+2h))(x-(a+3h))$\n",
    "Por lo tanto, el error de la regla de simpson tres octavos es:\n",
    "$E = \\int_a^b E(x)dx = \\int_a^{a+3h} \\frac{f^{(4)}(\\zeta)}{4!}(x-a)(x-(a+h))(x-(a+2h))(x-(a+3h))dx$\n",
    "Bajo el cambio de variable t = x-a, el error se convierte en:\n",
    "$E = \\int_0^{3h} \\frac{f^{(4)}(\\zeta)}{4!}(t)(t-h)(t-2h)(t-3h)dt$"
   ]
  },
  {
   "cell_type": "code",
   "execution_count": 15,
   "id": "5e188eb2",
   "metadata": {},
   "outputs": [
    {
     "name": "stdout",
     "output_type": "stream",
     "text": [
      "El error de la regla de Simpson 3/8 es:\n"
     ]
    },
    {
     "data": {
      "text/latex": [
       "$\\displaystyle - \\frac{3 f^{(4)}(\\zeta) h^{5}}{80}$"
      ],
      "text/plain": [
       "-3*f^{(4)}(\\zeta)*h**5/80"
      ]
     },
     "execution_count": 15,
     "metadata": {},
     "output_type": "execute_result"
    }
   ],
   "source": [
    "t= sym.Symbol('t')\n",
    "h = sym.Symbol('h')\n",
    "f_zeta = sym.Symbol('f^{(4)}(\\zeta)')\n",
    "E_t = (t)*(t-h)*(t-2*h)*(t-3*h)\n",
    "E_tot = sym.integrate(E_t,(t,0,3*h))\n",
    "E_tot *= f_zeta/np.math.factorial(4)\n",
    "print('El error de la regla de Simpson 3/8 es:')\n",
    "E_tot"
   ]
  }
 ],
 "metadata": {
  "kernelspec": {
   "display_name": "Python 3 (ipykernel)",
   "language": "python",
   "name": "python3"
  },
  "language_info": {
   "codemirror_mode": {
    "name": "ipython",
    "version": 3
   },
   "file_extension": ".py",
   "mimetype": "text/x-python",
   "name": "python",
   "nbconvert_exporter": "python",
   "pygments_lexer": "ipython3",
   "version": "3.9.12"
  }
 },
 "nbformat": 4,
 "nbformat_minor": 5
}
