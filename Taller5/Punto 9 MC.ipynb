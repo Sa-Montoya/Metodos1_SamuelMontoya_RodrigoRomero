{
 "cells": [
  {
   "cell_type": "code",
   "execution_count": 6,
   "id": "ce6336ce",
   "metadata": {},
   "outputs": [],
   "source": [
    "import numpy as np\n",
    "import matplotlib.pyplot as plt\n",
    "from scipy.special import factorial\n",
    "import sympy as sym"
   ]
  },
  {
   "cell_type": "code",
   "execution_count": 13,
   "id": "978b6c56",
   "metadata": {},
   "outputs": [],
   "source": [
    "def f(x1,x2,x3,x4,x5,x6,x7,x8):\n",
    "    return (1/2**7)*(x1+x2+x3+x4+x5+x6+x7+x8)**2"
   ]
  },
  {
   "cell_type": "code",
   "execution_count": 14,
   "id": "f628b5c8",
   "metadata": {},
   "outputs": [],
   "source": [
    "def MCIntegral( N , a=0,b=1 ):\n",
    "    \n",
    "    x1= np.random.uniform(a,b,size=int(N))\n",
    "    x2= np.random.uniform(a,b,size=int(N))\n",
    "    x3= np.random.uniform(a,b,size=int(N))\n",
    "    x4= np.random.uniform(a,b,size=int(N))\n",
    "    x5= np.random.uniform(a,b,size=int(N))\n",
    "    x6= np.random.uniform(a,b,size=int(N))\n",
    "    x7= np.random.uniform(a,b,size=int(N))\n",
    "    x8= np.random.uniform(a,b,size=int(N))\n",
    "    y = f(x1,x2,x3,x4,x5,x6,x7,x8)\n",
    "      \n",
    "    return np.mean( y )*(b-a)"
   ]
  },
  {
   "cell_type": "code",
   "execution_count": 23,
   "id": "9779535a",
   "metadata": {},
   "outputs": [
    {
     "data": {
      "text/plain": [
       "0.13011327351691362"
      ]
     },
     "execution_count": 23,
     "metadata": {},
     "output_type": "execute_result"
    }
   ],
   "source": [
    "MCIntegral(10000)"
   ]
  },
  {
   "cell_type": "code",
   "execution_count": 21,
   "id": "16a50053",
   "metadata": {},
   "outputs": [
    {
     "data": {
      "text/plain": [
       "0.13020833333333334"
      ]
     },
     "execution_count": 21,
     "metadata": {},
     "output_type": "execute_result"
    }
   ],
   "source": [
    "25/192"
   ]
  },
  {
   "cell_type": "code",
   "execution_count": null,
   "id": "dcf558e8",
   "metadata": {},
   "outputs": [],
   "source": []
  },
  {
   "cell_type": "code",
   "execution_count": null,
   "id": "bb44f552",
   "metadata": {},
   "outputs": [],
   "source": []
  }
 ],
 "metadata": {
  "kernelspec": {
   "display_name": "Python 3 (ipykernel)",
   "language": "python",
   "name": "python3"
  },
  "language_info": {
   "codemirror_mode": {
    "name": "ipython",
    "version": 3
   },
   "file_extension": ".py",
   "mimetype": "text/x-python",
   "name": "python",
   "nbconvert_exporter": "python",
   "pygments_lexer": "ipython3",
   "version": "3.9.12"
  }
 },
 "nbformat": 4,
 "nbformat_minor": 5
}
