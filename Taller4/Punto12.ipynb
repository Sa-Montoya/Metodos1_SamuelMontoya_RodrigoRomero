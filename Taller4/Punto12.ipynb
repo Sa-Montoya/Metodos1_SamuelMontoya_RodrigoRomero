{
 "cells": [
  {
   "cell_type": "code",
   "execution_count": 21,
   "id": "5280f547",
   "metadata": {},
   "outputs": [],
   "source": [
    "import numpy as np\n",
    "import matplotlib.pyplot as plt\n",
    "import sympy as sym"
   ]
  },
  {
   "cell_type": "code",
   "execution_count": 22,
   "id": "f5caf472",
   "metadata": {},
   "outputs": [],
   "source": [
    "def GetNewtonMethod(f,df,xn,itmax = 100000, precision=1e-12):\n",
    "    \n",
    "    error = 1.\n",
    "    it = 0\n",
    "\n",
    "    while error > precision and it < itmax:\n",
    "        \n",
    "        try:\n",
    "            \n",
    "            xn1 = xn - f(xn)/df(xn)\n",
    "            \n",
    "           \n",
    "            error = np.abs(f(xn)/df(xn))\n",
    "        \n",
    "        except ZeroDivisionError:\n",
    "            print(\"zero division\")\n",
    "            \n",
    "        xn  = xn1\n",
    "        it += 1\n",
    "    \n",
    "    \n",
    "    \n",
    "    if it == itmax:\n",
    "        return False\n",
    "    else:\n",
    "        return xn"
   ]
  },
  {
   "cell_type": "code",
   "execution_count": 23,
   "id": "42d23686",
   "metadata": {},
   "outputs": [
    {
     "name": "stdout",
     "output_type": "stream",
     "text": [
      "zero division\n"
     ]
    },
    {
     "ename": "UnboundLocalError",
     "evalue": "local variable 'xn1' referenced before assignment",
     "output_type": "error",
     "traceback": [
      "\u001b[1;31m---------------------------------------------------------------------------\u001b[0m",
      "\u001b[1;31mUnboundLocalError\u001b[0m                         Traceback (most recent call last)",
      "Input \u001b[1;32mIn [23]\u001b[0m, in \u001b[0;36m<cell line: 3>\u001b[1;34m()\u001b[0m\n\u001b[0;32m      1\u001b[0m f \u001b[38;5;241m=\u001b[39m \u001b[38;5;28;01mlambda\u001b[39;00m x: x\u001b[38;5;241m*\u001b[39m\u001b[38;5;241m*\u001b[39m\u001b[38;5;241m2\u001b[39m\n\u001b[0;32m      2\u001b[0m df \u001b[38;5;241m=\u001b[39m \u001b[38;5;28;01mlambda\u001b[39;00m x: \u001b[38;5;241m2\u001b[39m\u001b[38;5;241m*\u001b[39mx\n\u001b[1;32m----> 3\u001b[0m \u001b[43mGetNewtonMethod\u001b[49m\u001b[43m(\u001b[49m\u001b[43mf\u001b[49m\u001b[43m,\u001b[49m\u001b[43mdf\u001b[49m\u001b[43m,\u001b[49m\u001b[38;5;241;43m0\u001b[39;49m\u001b[43m)\u001b[49m\n",
      "Input \u001b[1;32mIn [22]\u001b[0m, in \u001b[0;36mGetNewtonMethod\u001b[1;34m(f, df, xn, itmax, precision)\u001b[0m\n\u001b[0;32m     15\u001b[0m     \u001b[38;5;28;01mexcept\u001b[39;00m \u001b[38;5;167;01mZeroDivisionError\u001b[39;00m:\n\u001b[0;32m     16\u001b[0m         \u001b[38;5;28mprint\u001b[39m(\u001b[38;5;124m\"\u001b[39m\u001b[38;5;124mzero division\u001b[39m\u001b[38;5;124m\"\u001b[39m)\n\u001b[1;32m---> 18\u001b[0m     xn  \u001b[38;5;241m=\u001b[39m \u001b[43mxn1\u001b[49m\n\u001b[0;32m     19\u001b[0m     it \u001b[38;5;241m+\u001b[39m\u001b[38;5;241m=\u001b[39m \u001b[38;5;241m1\u001b[39m\n\u001b[0;32m     23\u001b[0m \u001b[38;5;28;01mif\u001b[39;00m it \u001b[38;5;241m==\u001b[39m itmax:\n",
      "\u001b[1;31mUnboundLocalError\u001b[0m: local variable 'xn1' referenced before assignment"
     ]
    }
   ],
   "source": [
    "f = lambda x: x**2\n",
    "df = lambda x: 2*x\n",
    "GetNewtonMethod(f,df,0)"
   ]
  },
  {
   "cell_type": "code",
   "execution_count": 24,
   "id": "45aab3ac",
   "metadata": {},
   "outputs": [],
   "source": [
    "def GetAllRoots(f,df,x, tolerancia=8):\n",
    "    \n",
    "    Roots = np.array([])\n",
    "    \n",
    "    for i in x:\n",
    "        \n",
    "        root = GetNewtonMethod(f,df,i)\n",
    "          \n",
    "        if root != False:\n",
    "            \n",
    "            croot = np.round( root, tolerancia ) \n",
    "            \n",
    "            if croot not in Roots:\n",
    "                Roots = np.append( Roots, croot )\n",
    "                \n",
    "    \n",
    "    Roots.sort()\n",
    "    \n",
    "    return Roots"
   ]
  },
  {
   "cell_type": "code",
   "execution_count": 25,
   "id": "c753af45",
   "metadata": {},
   "outputs": [],
   "source": [
    "def GetLegendre(n):\n",
    "    \n",
    "    x = sym.Symbol('x',Real=True)\n",
    "    y = sym.Symbol('y',Real=True)\n",
    "    \n",
    "    y = (x**2 - 1)**n\n",
    "    \n",
    "    p = sym.diff(y,x,n)/(2**n * np.math.factorial(n))\n",
    "    \n",
    "    return p"
   ]
  },
  {
   "cell_type": "code",
   "execution_count": 26,
   "id": "5e9295f0",
   "metadata": {},
   "outputs": [],
   "source": [
    "Legendre = []\n",
    "DerLegendre = []\n",
    "\n",
    "x = sym.Symbol('x',Real=True)\n",
    "n=20\n",
    "\n",
    "for i in range(n+1):\n",
    "    \n",
    "    poly = GetLegendre(i)\n",
    "    \n",
    "    Legendre.append(poly)\n",
    "    DerLegendre.append(sym.diff(poly,x,1))"
   ]
  },
  {
   "cell_type": "code",
   "execution_count": 27,
   "id": "8f338dd4",
   "metadata": {},
   "outputs": [],
   "source": [
    "def GetRootsPolynomial(n,xi,poly,dpoly):\n",
    "    \n",
    "    x = sym.Symbol('x',Real=True)\n",
    "    \n",
    "    pn = sym.lambdify([x],poly[n],'numpy')\n",
    "    dpn = sym.lambdify([x],dpoly[n],'numpy')\n",
    "    Roots = GetAllRoots(pn,dpn,xi,tolerancia=8)\n",
    "    if (n%2) != 0:\n",
    "        Roots = np.append(Roots,0)\n",
    "        Roots.sort()\n",
    "    \n",
    "    return Roots"
   ]
  },
  {
   "cell_type": "code",
   "execution_count": 28,
   "id": "9b7b0959",
   "metadata": {},
   "outputs": [],
   "source": [
    "xi = np.linspace(-1,1,100)\n",
    "n = 2\n",
    "Roots = GetRootsPolynomial(n,xi,Legendre,DerLegendre)"
   ]
  },
  {
   "cell_type": "code",
   "execution_count": 29,
   "id": "792130d6",
   "metadata": {},
   "outputs": [
    {
     "data": {
      "text/plain": [
       "array([-0.57735027,  0.57735027])"
      ]
     },
     "execution_count": 29,
     "metadata": {},
     "output_type": "execute_result"
    }
   ],
   "source": [
    "Roots"
   ]
  },
  {
   "cell_type": "code",
   "execution_count": 30,
   "id": "7b9d2083",
   "metadata": {},
   "outputs": [],
   "source": [
    "def GetWeights(Roots,Dpoly):\n",
    "    \n",
    "    Weights = []\n",
    "    x = sym.Symbol('x',Real=True)\n",
    "    dpn = sym.lambdify([x],Dpoly[n],'numpy')\n",
    "    \n",
    "    for r in Roots:\n",
    "        \n",
    "        Weights.append( 2/(( 1- r**2 )*dpn(r)**2) )\n",
    "        \n",
    "    return Weights"
   ]
  },
  {
   "cell_type": "code",
   "execution_count": 31,
   "id": "289cf950",
   "metadata": {},
   "outputs": [
    {
     "data": {
      "text/plain": [
       "[0.9999999985963908, 0.9999999985963908]"
      ]
     },
     "execution_count": 31,
     "metadata": {},
     "output_type": "execute_result"
    }
   ],
   "source": [
    "Weights = GetWeights(Roots,DerLegendre)\n",
    "Weights"
   ]
  },
  {
   "cell_type": "code",
   "execution_count": 32,
   "id": "64e6b846",
   "metadata": {},
   "outputs": [],
   "source": [
    "a = 1\n",
    "b = 2\n",
    "f = lambda x : 1/(x**2)"
   ]
  },
  {
   "cell_type": "code",
   "execution_count": 33,
   "id": "dfe8496b",
   "metadata": {},
   "outputs": [],
   "source": [
    "t = 0.5*((b-a)*Roots + a + b)"
   ]
  },
  {
   "cell_type": "code",
   "execution_count": 34,
   "id": "70c8b7fe",
   "metadata": {},
   "outputs": [
    {
     "data": {
      "text/plain": [
       "0.4970414195778547"
      ]
     },
     "execution_count": 34,
     "metadata": {},
     "output_type": "execute_result"
    }
   ],
   "source": [
    "IntegralCon2 = 0.5*(b-a)*np.sum( Weights*f(t) )\n",
    "IntegralCon2"
   ]
  },
  {
   "cell_type": "code",
   "execution_count": 35,
   "id": "b94f0e3e",
   "metadata": {},
   "outputs": [
    {
     "data": {
      "text/plain": [
       "array([-0.77459667,  0.        ,  0.77459667])"
      ]
     },
     "execution_count": 35,
     "metadata": {},
     "output_type": "execute_result"
    }
   ],
   "source": [
    "n = 3\n",
    "Roots = GetRootsPolynomial(n,xi,Legendre,DerLegendre)\n",
    "Roots"
   ]
  },
  {
   "cell_type": "code",
   "execution_count": 36,
   "id": "378bc33d",
   "metadata": {},
   "outputs": [
    {
     "data": {
      "text/plain": [
       "[0.5555555539234875, 0.8888888888888888, 0.5555555539234875]"
      ]
     },
     "execution_count": 36,
     "metadata": {},
     "output_type": "execute_result"
    }
   ],
   "source": [
    "Weights = GetWeights(Roots,DerLegendre)\n",
    "Weights"
   ]
  },
  {
   "cell_type": "code",
   "execution_count": 37,
   "id": "daf43e5d",
   "metadata": {},
   "outputs": [],
   "source": [
    "t = 0.5*((b-a)*Roots + a + b)"
   ]
  },
  {
   "cell_type": "code",
   "execution_count": 38,
   "id": "e44b1caa",
   "metadata": {},
   "outputs": [
    {
     "data": {
      "text/plain": [
       "0.49987402291694605"
      ]
     },
     "execution_count": 38,
     "metadata": {},
     "output_type": "execute_result"
    }
   ],
   "source": [
    "IntegralCon3 = 0.5*(b-a)*np.sum( Weights*f(t) )\n",
    "IntegralCon3"
   ]
  },
  {
   "cell_type": "code",
   "execution_count": null,
   "id": "e785659a",
   "metadata": {},
   "outputs": [],
   "source": []
  },
  {
   "cell_type": "code",
   "execution_count": null,
   "id": "66e88ab3",
   "metadata": {},
   "outputs": [],
   "source": []
  }
 ],
 "metadata": {
  "kernelspec": {
   "display_name": "Python 3 (ipykernel)",
   "language": "python",
   "name": "python3"
  },
  "language_info": {
   "codemirror_mode": {
    "name": "ipython",
    "version": 3
   },
   "file_extension": ".py",
   "mimetype": "text/x-python",
   "name": "python",
   "nbconvert_exporter": "python",
   "pygments_lexer": "ipython3",
   "version": "3.9.12"
  }
 },
 "nbformat": 4,
 "nbformat_minor": 5
}
