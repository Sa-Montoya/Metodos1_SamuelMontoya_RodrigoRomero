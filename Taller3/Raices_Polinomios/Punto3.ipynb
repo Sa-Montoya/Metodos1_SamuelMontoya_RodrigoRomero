{
 "cells": [
  {
   "cell_type": "code",
   "execution_count": 1,
   "id": "71762138",
   "metadata": {},
   "outputs": [],
   "source": [
    "import numpy as np\n",
    "import matplotlib.pyplot as plt\n",
    "import sympy as sym"
   ]
  },
  {
   "cell_type": "code",
   "execution_count": 6,
   "id": "bed3a58a",
   "metadata": {},
   "outputs": [],
   "source": [
    "def Derivative(f,x,h=1e-6):\n",
    "    return (f(x+h)-f(x-h))/(2*h)"
   ]
  },
  {
   "cell_type": "code",
   "execution_count": 27,
   "id": "ef77755c",
   "metadata": {},
   "outputs": [],
   "source": [
    "def NewtonRaphson(f,df,xn,maxiter=1000,precision=1e-10):\n",
    "    error = 1\n",
    "    it=0\n",
    "    \n",
    "    while error > precision and it < maxiter:\n",
    "        try:\n",
    "            xn1 = xn - f(xn)/df(f,xn)\n",
    "            error = np.abs(f(xn)/df(f,xn))\n",
    "        except ZeroDivisionError:\n",
    "            print('Division por cero')  \n",
    "        xn = xn1\n",
    "        it += 1 \n",
    "    if it == maxiter:\n",
    "        return False\n",
    "    else:\n",
    "        return xn"
   ]
  },
  {
   "cell_type": "code",
   "execution_count": 29,
   "id": "6b35cd7f",
   "metadata": {},
   "outputs": [],
   "source": [
    "def FindRoots(a,b,f,df,cifras=7):\n",
    "    x = np.linspace(a,b,1000)\n",
    "    Roots = np.array([])\n",
    "    for i in x:\n",
    "        root = NewtonRaphson(f,Derivative,i)\n",
    "        root = np.round(root,cifras)\n",
    "        if root not in Roots:\n",
    "            Roots = np.append(Roots,root)\n",
    "    Roots.sort()\n",
    "    return Roots"
   ]
  },
  {
   "cell_type": "code",
   "execution_count": 4,
   "id": "69ed6590",
   "metadata": {},
   "outputs": [],
   "source": [
    "f = lambda x: 3*x**5+5*x**4-x**3"
   ]
  },
  {
   "cell_type": "code",
   "execution_count": 30,
   "id": "3007b7ba",
   "metadata": {},
   "outputs": [
    {
     "data": {
      "text/plain": [
       "array([-1.8471271, -0.       ,  0.1804604])"
      ]
     },
     "execution_count": 30,
     "metadata": {},
     "output_type": "execute_result"
    }
   ],
   "source": [
    "raices = FindRoots(-100,100,f,Derivative)\n",
    "raices"
   ]
  }
 ],
 "metadata": {
  "kernelspec": {
   "display_name": "Python 3 (ipykernel)",
   "language": "python",
   "name": "python3"
  },
  "language_info": {
   "codemirror_mode": {
    "name": "ipython",
    "version": 3
   },
   "file_extension": ".py",
   "mimetype": "text/x-python",
   "name": "python",
   "nbconvert_exporter": "python",
   "pygments_lexer": "ipython3",
   "version": "3.9.12"
  }
 },
 "nbformat": 4,
 "nbformat_minor": 5
}
