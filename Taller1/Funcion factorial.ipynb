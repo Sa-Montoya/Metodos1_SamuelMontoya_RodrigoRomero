{
 "cells": [
  {
   "cell_type": "code",
   "execution_count": 8,
   "id": "1f2a65ac",
   "metadata": {},
   "outputs": [],
   "source": [
    "def factorial (numero:float):\n",
    "    if numero==0:\n",
    "        respuesta=1\n",
    "        \n",
    "    elif numero>0:\n",
    "        i=1\n",
    "        respuesta=1\n",
    "        while i <= numero:\n",
    "            respuesta=respuesta*i\n",
    "            i+=1\n",
    "    return respuesta\n",
    "        "
   ]
  },
  {
   "cell_type": "code",
   "execution_count": 21,
   "id": "21ee2230",
   "metadata": {},
   "outputs": [],
   "source": [
    "def operar():\n",
    "    lista=[]\n",
    "    i=0\n",
    "    while i <=20:\n",
    "        lista.append(factorial(i))\n",
    "        i+=1\n",
    "    return lista"
   ]
  },
  {
   "cell_type": "code",
   "execution_count": 22,
   "id": "d3aa28d4",
   "metadata": {},
   "outputs": [
    {
     "data": {
      "text/plain": [
       "[1,\n",
       " 1,\n",
       " 2,\n",
       " 6,\n",
       " 24,\n",
       " 120,\n",
       " 720,\n",
       " 5040,\n",
       " 40320,\n",
       " 362880,\n",
       " 3628800,\n",
       " 39916800,\n",
       " 479001600,\n",
       " 6227020800,\n",
       " 87178291200,\n",
       " 1307674368000,\n",
       " 20922789888000,\n",
       " 355687428096000,\n",
       " 6402373705728000,\n",
       " 121645100408832000,\n",
       " 2432902008176640000]"
      ]
     },
     "execution_count": 22,
     "metadata": {},
     "output_type": "execute_result"
    }
   ],
   "source": [
    "operar()\n"
   ]
  },
  {
   "cell_type": "code",
   "execution_count": null,
   "id": "ed1e2f65",
   "metadata": {},
   "outputs": [],
   "source": []
  }
 ],
 "metadata": {
  "kernelspec": {
   "display_name": "Python 3 (ipykernel)",
   "language": "python",
   "name": "python3"
  },
  "language_info": {
   "codemirror_mode": {
    "name": "ipython",
    "version": 3
   },
   "file_extension": ".py",
   "mimetype": "text/x-python",
   "name": "python",
   "nbconvert_exporter": "python",
   "pygments_lexer": "ipython3",
   "version": "3.9.12"
  }
 },
 "nbformat": 4,
 "nbformat_minor": 5
}
