{
 "cells": [
  {
   "cell_type": "code",
   "execution_count": 32,
   "id": "258db0b2",
   "metadata": {},
   "outputs": [],
   "source": [
    "import numpy as np\n",
    "import matplotlib.pyplot as plt\n",
    "from scipy.special import factorial\n",
    "import sympy as sym"
   ]
  },
  {
   "cell_type": "code",
   "execution_count": 50,
   "id": "32be8176",
   "metadata": {},
   "outputs": [],
   "source": [
    "a=2\n",
    "b=4\n",
    "N=10000\n",
    "x=np.random.uniform(0,1,size=int(N))\n",
    "def fun(a,b,x):\n",
    "    f=factorial((a+b)-1)/(factorial(a-1)*factorial(b-1))*(x**(a-1))*(1-x)**(b-1)\n",
    "    return f\n",
    "f=fun(a,b,x)\n",
    "\n"
   ]
  },
  {
   "cell_type": "code",
   "execution_count": 51,
   "id": "ccd311b8",
   "metadata": {},
   "outputs": [
    {
     "data": {
      "text/plain": [
       "4696"
      ]
     },
     "execution_count": 51,
     "metadata": {},
     "output_type": "execute_result"
    }
   ],
   "source": [
    "y=np.random.uniform(0,max(f),size=int(N))\n",
    "X=[]\n",
    "count=0\n",
    "for i in range(N):\n",
    "    if y[i]<fun(a,b,x[i]):\n",
    "        X.append(x[i])\n",
    "        count+=1\n",
    "\n",
    "X=np.array(X)\n",
    "count"
   ]
  },
  {
   "cell_type": "code",
   "execution_count": 52,
   "id": "54a4baab",
   "metadata": {},
   "outputs": [
    {
     "data": {
      "text/plain": [
       "0.990562485202479"
      ]
     },
     "execution_count": 52,
     "metadata": {},
     "output_type": "execute_result"
    }
   ],
   "source": [
    "y = fun(a,b,X)\n",
    "area=max(f)*count/N\n",
    "area"
   ]
  },
  {
   "cell_type": "code",
   "execution_count": 53,
   "id": "99f7e4fd",
   "metadata": {},
   "outputs": [
    {
     "data": {
      "text/plain": [
       "<matplotlib.collections.PathCollection at 0x12c11b7ef10>"
      ]
     },
     "execution_count": 53,
     "metadata": {},
     "output_type": "execute_result"
    },
    {
     "data": {
      "image/png": "[encoded data removed]",
      "text/plain": [
       "<Figure size 432x288 with 1 Axes>"
      ]
     },
     "metadata": {
      "needs_background": "light"
     },
     "output_type": "display_data"
    }
   ],
   "source": [
    "plt.scatter(X,y)"
   ]
  },
  {
   "cell_type": "code",
   "execution_count": 58,
   "id": "7d85ec2b",
   "metadata": {},
   "outputs": [
    {
     "data": {
      "text/plain": [
       "1.0"
      ]
     },
     "execution_count": 58,
     "metadata": {},
     "output_type": "execute_result"
    }
   ],
   "source": [
    "incertidumbre=1/np.sqrt(N)*100\n",
    "incertidumbre"
   ]
  },
  {
   "cell_type": "code",
   "execution_count": 55,
   "id": "fda9667d",
   "metadata": {},
   "outputs": [
    {
     "data": {
      "text/latex": [
       "$\\displaystyle 1.0$"
      ],
      "text/plain": [
       "1.00000000000000"
      ]
     },
     "execution_count": 55,
     "metadata": {},
     "output_type": "execute_result"
    }
   ],
   "source": [
    "x=sym.Symbol('x',real=True)\n",
    "F=factorial((2+4)-1)/(factorial(2-1)*factorial(4-1))*(x**(2-1))*(1-x)**(4-1)\n",
    "sym.integrate(F,(x,0,1))"
   ]
  },
  {
   "cell_type": "code",
   "execution_count": null,
   "id": "2441ec4f",
   "metadata": {},
   "outputs": [],
   "source": []
  },
  {
   "cell_type": "code",
   "execution_count": null,
   "id": "6a1a1f75",
   "metadata": {},
   "outputs": [],
   "source": [
    "\n"
   ]
  },
  {
   "cell_type": "code",
   "execution_count": null,
   "id": "8b5ced12",
   "metadata": {},
   "outputs": [],
   "source": []
  },
  {
   "cell_type": "code",
   "execution_count": null,
   "id": "6b80dc7b",
   "metadata": {},
   "outputs": [],
   "source": []
  },
  {
   "cell_type": "code",
   "execution_count": null,
   "id": "781910fa",
   "metadata": {},
   "outputs": [],
   "source": []
  }
 ],
 "metadata": {
  "kernelspec": {
   "display_name": "Python 3 (ipykernel)",
   "language": "python",
   "name": "python3"
  },
  "language_info": {
   "codemirror_mode": {
    "name": "ipython",
    "version": 3
   },
   "file_extension": ".py",
   "mimetype": "text/x-python",
   "name": "python",
   "nbconvert_exporter": "python",
   "pygments_lexer": "ipython3",
   "version": "3.9.12"
  }
 },
 "nbformat": 4,
 "nbformat_minor": 5
}
