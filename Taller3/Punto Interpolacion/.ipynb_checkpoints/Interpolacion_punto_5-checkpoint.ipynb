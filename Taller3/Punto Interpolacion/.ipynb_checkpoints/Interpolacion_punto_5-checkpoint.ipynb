{
 "cells": [
  {
   "cell_type": "code",
   "execution_count": 172,
   "id": "7b3f6ea0",
   "metadata": {},
   "outputs": [],
   "source": [
    "import numpy as np\n",
    "import matplotlib.pyplot as plt\n",
    "from matplotlib import rc\n",
    "import pandas as pd\n",
    "import sympy as sym\n",
    "import os.path as path\n",
    "import wget"
   ]
  },
  {
   "cell_type": "code",
   "execution_count": 173,
   "id": "6931e42b",
   "metadata": {},
   "outputs": [],
   "source": [
    "file='Data\\Datos2'\n",
    "url='https://raw.githubusercontent.com/asegura4488/Database/main/MetodosComputacionalesReforma/InterpolacionNewtonNoequi.csv'\n",
    "if not path.exists(file):\n",
    "    Path_ = wget.download(url,file)\n",
    "else:\n",
    "    Path_ = file"
   ]
  },
  {
   "cell_type": "code",
   "execution_count": 174,
   "id": "6bee50fa",
   "metadata": {},
   "outputs": [],
   "source": [
    "Data = pd.read_csv(Path_,sep=',')"
   ]
  },
  {
   "cell_type": "code",
   "execution_count": 175,
   "id": "814761c2",
   "metadata": {},
   "outputs": [
    {
     "data": {
      "text/html": [
       "<div>\n",
       "<style scoped>\n",
       "    .dataframe tbody tr th:only-of-type {\n",
       "        vertical-align: middle;\n",
       "    }\n",
       "\n",
       "    .dataframe tbody tr th {\n",
       "        vertical-align: top;\n",
       "    }\n",
       "\n",
       "    .dataframe thead th {\n",
       "        text-align: right;\n",
       "    }\n",
       "</style>\n",
       "<table border=\"1\" class=\"dataframe\">\n",
       "  <thead>\n",
       "    <tr style=\"text-align: right;\">\n",
       "      <th></th>\n",
       "      <th>X</th>\n",
       "      <th>Y</th>\n",
       "    </tr>\n",
       "  </thead>\n",
       "  <tbody>\n",
       "    <tr>\n",
       "      <th>0</th>\n",
       "      <td>0.0</td>\n",
       "      <td>-18</td>\n",
       "    </tr>\n",
       "    <tr>\n",
       "      <th>1</th>\n",
       "      <td>1.5</td>\n",
       "      <td>-13</td>\n",
       "    </tr>\n",
       "    <tr>\n",
       "      <th>2</th>\n",
       "      <td>2.0</td>\n",
       "      <td>0</td>\n",
       "    </tr>\n",
       "    <tr>\n",
       "      <th>3</th>\n",
       "      <td>3.8</td>\n",
       "      <td>5</td>\n",
       "    </tr>\n",
       "    <tr>\n",
       "      <th>4</th>\n",
       "      <td>4.2</td>\n",
       "      <td>3</td>\n",
       "    </tr>\n",
       "    <tr>\n",
       "      <th>5</th>\n",
       "      <td>5.9</td>\n",
       "      <td>10</td>\n",
       "    </tr>\n",
       "  </tbody>\n",
       "</table>\n",
       "</div>"
      ],
      "text/plain": [
       "     X   Y\n",
       "0  0.0 -18\n",
       "1  1.5 -13\n",
       "2  2.0   0\n",
       "3  3.8   5\n",
       "4  4.2   3\n",
       "5  5.9  10"
      ]
     },
     "execution_count": 175,
     "metadata": {},
     "output_type": "execute_result"
    }
   ],
   "source": [
    "Data"
   ]
  },
  {
   "cell_type": "code",
   "execution_count": 176,
   "id": "a459696e",
   "metadata": {},
   "outputs": [],
   "source": [
    "X = np.float64(Data['X'])\n",
    "Y = np.float64(Data['Y'])"
   ]
  },
  {
   "cell_type": "code",
   "execution_count": 201,
   "id": "5081a1ed",
   "metadata": {},
   "outputs": [
    {
     "data": {
      "text/plain": [
       "array([[-18.        ,   0.        ,   0.        ,   0.        ,\n",
       "          0.        ,   0.        ],\n",
       "       [-13.        ,  -1.        ,   0.        ,   0.        ,\n",
       "          0.        ,   0.        ],\n",
       "       [  0.        ,  26.        ,  26.5       ,   0.        ,\n",
       "          0.        ,   0.        ],\n",
       "       [  5.        ,   5.        ,  -6.30434783, -13.27803204,\n",
       "          0.        ,   0.        ],\n",
       "       [  3.        ,  -9.5       , -11.77272727,  -9.43778363,\n",
       "         -6.27634743,   0.        ],\n",
       "       [ 10.        ,   8.23529412,  12.75910364,  15.77775166,\n",
       "         17.92270249,  18.98649019]])"
      ]
     },
     "execution_count": 201,
     "metadata": {},
     "output_type": "execute_result"
    }
   ],
   "source": [
    "Diff = np.zeros((len(X),len(Y)))\n",
    "Diff[:,0] = Y\n",
    "\n",
    "for i in range(1,len(X)):\n",
    "    for j in range(i,len(Y)):\n",
    "        Diff[j,i] = Diff[j,i-1]-Diff[j-1,i-1]/(X[j]-X[j-i])\n",
    "        \n",
    "\n",
    "Diff"
   ]
  },
  {
   "cell_type": "code",
   "execution_count": 208,
   "id": "312f9c11",
   "metadata": {},
   "outputs": [],
   "source": [
    "def NewtonGregory(X,Y,x):\n",
    "    \n",
    "    Sum = Y[0]\n",
    "    \n",
    "    Diff = np.zeros((len(X),len(Y)))\n",
    "    Diff[:,0] = Y\n",
    "\n",
    "    for i in range(1,len(X)):\n",
    "        for j in range(i,len(Y)):\n",
    "            Diff[j,i] = Diff[j,i-1]-Diff[j-1,i-1]\n",
    "            Diff[j,i] = Diff[j,i]/(X[j]-X[j-i])\n",
    "        \n",
    "\n",
    "\n",
    "        poly=1.0\n",
    "        for h in range(0,i):\n",
    "            poly*=(x-X[h])\n",
    "        \n",
    "            \n",
    "        Sum += poly*(Diff[i,i])\n",
    "        \n",
    "    \n",
    "    return Sum,np.round(Diff,2)"
   ]
  },
  {
   "cell_type": "code",
   "execution_count": 209,
   "id": "f80818b5",
   "metadata": {},
   "outputs": [
    {
     "data": {
      "text/plain": [
       "(array([-18.        , -21.79145354, -24.99035088, -27.63941338,\n",
       "        -29.77965352, -31.45040573, -32.68935717, -33.53257854,\n",
       "        -34.0145549 , -34.16821644, -34.02496934, -33.61472648,\n",
       "        -32.96593836, -32.1056238 , -31.05940079, -29.85151732,\n",
       "        -28.50488213, -27.04109554, -25.48048024, -23.84211212,\n",
       "        -22.14385106, -20.4023717 , -18.63319431, -16.85071554,\n",
       "        -15.06823923, -13.29800724, -11.55123023,  -9.83811847,\n",
       "         -8.16791265,  -6.54891465,  -4.98851842,  -3.49324068,\n",
       "         -2.06875181,  -0.71990661,   0.54922488,   1.7353266 ,\n",
       "          2.83580562,   3.8487614 ,   4.77295493,   5.60777796,\n",
       "          6.35322218,   7.00984844,   7.5787559 ,   8.06155127,\n",
       "          8.46031801,   8.77758549,   9.0162982 ,   9.17978498,\n",
       "          9.27172817,   9.29613282,   9.25729591,   9.15977552,\n",
       "          9.00836004,   8.80803736,   8.56396407,   8.28143465,\n",
       "          7.96585069,   7.62269005,   7.25747609,   6.87574684,\n",
       "          6.48302422,   6.08478322,   5.68642111,   5.29322662,\n",
       "          4.91034914,   4.54276795,   4.19526136,   3.87237596,\n",
       "          3.57839576,   3.31731145,   3.09278955,   2.90814163,\n",
       "          2.7662935 ,   2.6697544 ,   2.62058619,   2.62037259,\n",
       "          2.67018833,   2.77056834,   2.92147701,   3.12227732,\n",
       "          3.37170006,   3.66781305,   4.00799029,   4.38888119,\n",
       "          4.80637978,   5.25559386,   5.73081422,   6.22548387,\n",
       "          6.73216717,   7.24251907,   7.74725433,   8.23611664,\n",
       "          8.69784788,   9.12015732,   9.48969077,   9.79199979,\n",
       "         10.01151094,  10.13149491,  10.13403573,  10.        ]),\n",
       " array([[-18.  ,   0.  ,   0.  ,   0.  ,   0.  ,   0.  ],\n",
       "        [-13.  ,   3.33,   0.  ,   0.  ,   0.  ,   0.  ],\n",
       "        [  0.  ,  26.  ,  11.33,   0.  ,   0.  ,   0.  ],\n",
       "        [  5.  ,   2.78, -10.1 ,  -5.64,   0.  ,   0.  ],\n",
       "        [  3.  ,  -5.  ,  -3.54,   2.43,   1.92,   0.  ],\n",
       "        [ 10.  ,   4.12,   4.34,   2.02,  -0.09,  -0.34]]))"
      ]
     },
     "execution_count": 209,
     "metadata": {},
     "output_type": "execute_result"
    }
   ],
   "source": [
    "\n",
    "x = np.linspace(np.min(X),np.max(X),100)\n",
    "y,_=NewtonGregory(X,Y,x)\n",
    "y,_"
   ]
  },
  {
   "cell_type": "code",
   "execution_count": 210,
   "id": "a78c2428",
   "metadata": {},
   "outputs": [
    {
     "data": {
      "text/plain": [
       "[<matplotlib.lines.Line2D at 0x1cd5b037460>]"
      ]
     },
     "execution_count": 210,
     "metadata": {},
     "output_type": "execute_result"
    },
    {
     "data": {
      "image/png": "[encoded data removed]",
      "text/plain": [
       "<Figure size 432x288 with 1 Axes>"
      ]
     },
     "metadata": {
      "needs_background": "light"
     },
     "output_type": "display_data"
    }
   ],
   "source": [
    "plt.scatter(X,Y,color='r')\n",
    "plt.plot(x,y)"
   ]
  },
  {
   "cell_type": "code",
   "execution_count": 211,
   "id": "c48b3618",
   "metadata": {},
   "outputs": [
    {
     "data": {
      "text/latex": [
       "$\\displaystyle - 0.34145435774264 x \\left(x - 4.2\\right) \\left(x - 3.8\\right) \\left(x - 2.0\\right) \\left(x - 1.5\\right) + 1.92132358417637 x \\left(x - 3.8\\right) \\left(x - 2.0\\right) \\left(x - 1.5\\right) - 5.63946097126875 x \\left(x - 2.0\\right) \\left(x - 1.5\\right) + 11.3333333333333 x \\left(x - 1.5\\right) + 3.33333333333333 x - 18.0$"
      ],
      "text/plain": [
       "-0.34145435774264*x*(x - 4.2)*(x - 3.8)*(x - 2.0)*(x - 1.5) + 1.92132358417637*x*(x - 3.8)*(x - 2.0)*(x - 1.5) - 5.63946097126875*x*(x - 2.0)*(x - 1.5) + 11.3333333333333*x*(x - 1.5) + 3.33333333333333*x - 18.0"
      ]
     },
     "execution_count": 211,
     "metadata": {},
     "output_type": "execute_result"
    }
   ],
   "source": [
    "x = sym.Symbol('x',Real='True')\n",
    "y,_ = NewtonGregory(X,Y,x)\n",
    "y"
   ]
  },
  {
   "cell_type": "code",
   "execution_count": 212,
   "id": "f49b4102",
   "metadata": {},
   "outputs": [
    {
     "data": {
      "text/latex": [
       "$\\displaystyle - 0.34145435774264 x^{5} + 5.84804869821673 x^{4} - 35.6998197753506 x^{3} + 89.657566164176 x^{2} - 68.8369730888011 x - 18.0$"
      ],
      "text/plain": [
       "-0.34145435774264*x**5 + 5.84804869821673*x**4 - 35.6998197753506*x**3 + 89.657566164176*x**2 - 68.8369730888011*x - 18.0"
      ]
     },
     "execution_count": 212,
     "metadata": {},
     "output_type": "execute_result"
    }
   ],
   "source": [
    "y.simplify()"
   ]
  },
  {
   "cell_type": "code",
   "execution_count": null,
   "id": "ad451155",
   "metadata": {},
   "outputs": [],
   "source": []
  },
  {
   "cell_type": "code",
   "execution_count": null,
   "id": "a676268c",
   "metadata": {},
   "outputs": [],
   "source": []
  }
 ],
 "metadata": {
  "kernelspec": {
   "display_name": "Python 3 (ipykernel)",
   "language": "python",
   "name": "python3"
  },
  "language_info": {
   "codemirror_mode": {
    "name": "ipython",
    "version": 3
   },
   "file_extension": ".py",
   "mimetype": "text/x-python",
   "name": "python",
   "nbconvert_exporter": "python",
   "pygments_lexer": "ipython3",
   "version": "3.9.12"
  }
 },
 "nbformat": 4,
 "nbformat_minor": 5
}
