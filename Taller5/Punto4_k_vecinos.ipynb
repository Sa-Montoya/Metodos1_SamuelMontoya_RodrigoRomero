{
 "cells": [
  {
   "cell_type": "code",
   "execution_count": 1,
   "id": "6e155900",
   "metadata": {},
   "outputs": [],
   "source": [
    "import numpy as np\n",
    "import matplotlib.pyplot as plt\n",
    "from tqdm import tqdm "
   ]
  },
  {
   "cell_type": "code",
   "execution_count": 17,
   "id": "54e41761",
   "metadata": {},
   "outputs": [],
   "source": [
    "N = int(10e4)\n",
    "points = np.random.uniform(0,1,size=int(10e5))"
   ]
  },
  {
   "cell_type": "code",
   "execution_count": 18,
   "id": "a499651d",
   "metadata": {},
   "outputs": [],
   "source": [
    "def TestMethod(points,N,k):\n",
    "    C = 0\n",
    "    for i in range(N):\n",
    "        C += points[i]*points[i+k]\n",
    "    return C/N"
   ]
  },
  {
   "cell_type": "code",
   "execution_count": 22,
   "id": "85e7bb38",
   "metadata": {},
   "outputs": [],
   "source": [
    "k = np.arange(1,30,1)\n",
    "correlations = []\n",
    "for i in range(len(k)):\n",
    "    correlations.append(TestMethod(points,N,k[i]))"
   ]
  },
  {
   "cell_type": "code",
   "execution_count": 37,
   "id": "0b2f62ba",
   "metadata": {},
   "outputs": [
    {
     "data": {
      "text/plain": [
       "Text(0, 0.5, 'C(k)')"
      ]
     },
     "execution_count": 37,
     "metadata": {},
     "output_type": "execute_result"
    },
    {
     "data": {
      "image/png": "[encoded data removed]",
      "text/plain": [
       "<Figure size 504x504 with 1 Axes>"
      ]
     },
     "metadata": {
      "needs_background": "light"
     },
     "output_type": "display_data"
    }
   ],
   "source": [
    "fig = plt.figure(figsize=(7,7))\n",
    "ax = fig.add_subplot(1,1,1)\n",
    "ax.plot(k,correlations,color='r')\n",
    "ax.set_xlim((0,30))\n",
    "ax.set_ylim((0.2,0.3))\n",
    "plt.title('Correlaciones')\n",
    "plt.xlabel('k-esimo vecino')\n",
    "plt.ylabel('C(k)')"
   ]
  }
 ],
 "metadata": {
  "kernelspec": {
   "display_name": "Python 3 (ipykernel)",
   "language": "python",
   "name": "python3"
  },
  "language_info": {
   "codemirror_mode": {
    "name": "ipython",
    "version": 3
   },
   "file_extension": ".py",
   "mimetype": "text/x-python",
   "name": "python",
   "nbconvert_exporter": "python",
   "pygments_lexer": "ipython3",
   "version": "3.9.12"
  }
 },
 "nbformat": 4,
 "nbformat_minor": 5
}
