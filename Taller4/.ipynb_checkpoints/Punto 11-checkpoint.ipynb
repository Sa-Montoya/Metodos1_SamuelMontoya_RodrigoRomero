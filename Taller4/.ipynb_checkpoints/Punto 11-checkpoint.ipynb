{
 "cells": [
  {
   "cell_type": "code",
   "execution_count": 284,
   "id": "ac45b9d3",
   "metadata": {},
   "outputs": [],
   "source": [
    "import numpy as np\n",
    "import matplotlib.pyplot as plt\n",
    "from scipy import integrate"
   ]
  },
  {
   "cell_type": "code",
   "execution_count": 328,
   "id": "19e9b9b2",
   "metadata": {},
   "outputs": [],
   "source": [
    "class Integrator:\n",
    "    \n",
    "    def __init__(self, x,y):\n",
    "        \n",
    "        self.x = x\n",
    "        self.y = y\n",
    "        self.h = self.x[1] - self.x[0]\n",
    "        \n",
    "        self.integral = 0.\n",
    "        \n",
    "    def Simpson(self):\n",
    "        \n",
    "        self.integral = 0.\n",
    "        \n",
    "        self.integral += self.y[0] + self.y[-1]\n",
    "        \n",
    "        for i in range( 1,len(y)-1):\n",
    "            if i%3 == 0:\n",
    "                self.integral += 2*y[i]\n",
    "            else:\n",
    "                self.integral += 3*y[i]\n",
    "                \n",
    "        return self.integral*3*self.h/8\n"
   ]
  },
  {
   "cell_type": "code",
   "execution_count": 345,
   "id": "85745f53",
   "metadata": {},
   "outputs": [],
   "source": [
    "fun = lambda x: np.sqrt(1+(np.exp(-x**(2))))\n",
    "N = 60\n",
    "x = np.linspace(-1,1,3*N)\n",
    "y = fun(x)"
   ]
  },
  {
   "cell_type": "code",
   "execution_count": 346,
   "id": "f60c9b77",
   "metadata": {},
   "outputs": [
    {
     "data": {
      "text/plain": [
       "<matplotlib.collections.PathCollection at 0x2424e9f7a30>"
      ]
     },
     "execution_count": 346,
     "metadata": {},
     "output_type": "execute_result"
    },
    {
     "data": {
      "image/png": "[encoded data removed]",
      "text/plain": [
       "<Figure size 432x288 with 1 Axes>"
      ]
     },
     "metadata": {
      "needs_background": "light"
     },
     "output_type": "display_data"
    }
   ],
   "source": [
    "plt.scatter(x,y,color='r')"
   ]
  },
  {
   "cell_type": "code",
   "execution_count": 347,
   "id": "d9953280",
   "metadata": {},
   "outputs": [
    {
     "data": {
      "text/plain": [
       "<__main__.Integrator at 0x2424ea203a0>"
      ]
     },
     "execution_count": 347,
     "metadata": {},
     "output_type": "execute_result"
    }
   ],
   "source": [
    "int1 = Integrator(x,y)\n",
    "int1"
   ]
  },
  {
   "cell_type": "code",
   "execution_count": 348,
   "id": "f8d24c06",
   "metadata": {},
   "outputs": [
    {
     "data": {
      "text/plain": [
       "2.6372187328435084"
      ]
     },
     "execution_count": 348,
     "metadata": {},
     "output_type": "execute_result"
    }
   ],
   "source": [
    "int1.Simpson()"
   ]
  },
  {
   "cell_type": "code",
   "execution_count": null,
   "id": "f6fd2122",
   "metadata": {},
   "outputs": [],
   "source": []
  },
  {
   "cell_type": "code",
   "execution_count": null,
   "id": "f935c4a8",
   "metadata": {},
   "outputs": [],
   "source": []
  },
  {
   "cell_type": "code",
   "execution_count": null,
   "id": "fd7de6f7",
   "metadata": {},
   "outputs": [],
   "source": []
  },
  {
   "cell_type": "code",
   "execution_count": null,
   "id": "31f16c2c",
   "metadata": {},
   "outputs": [],
   "source": []
  }
 ],
 "metadata": {
  "kernelspec": {
   "display_name": "Python 3 (ipykernel)",
   "language": "python",
   "name": "python3"
  },
  "language_info": {
   "codemirror_mode": {
    "name": "ipython",
    "version": 3
   },
   "file_extension": ".py",
   "mimetype": "text/x-python",
   "name": "python",
   "nbconvert_exporter": "python",
   "pygments_lexer": "ipython3",
   "version": "3.9.12"
  }
 },
 "nbformat": 4,
 "nbformat_minor": 5
}
