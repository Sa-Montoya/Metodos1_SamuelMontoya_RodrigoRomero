{
 "cells": [
  {
   "cell_type": "code",
<<<<<<< HEAD
   "execution_count": 7,
   "id": "01bac782",
=======
   "execution_count": 1,
   "id": "3db7d8ca",
>>>>>>> 16f8e615298eaa3884182e35d2c01dfac87a2dfe
   "metadata": {},
   "outputs": [],
   "source": [
    "import numpy as np\n",
    "import matplotlib.pyplot as plt\n",
    "import sympy as sym"
   ]
  },
  {
   "cell_type": "code",
<<<<<<< HEAD
   "execution_count": 8,
   "id": "5e74a5c4",
=======
   "execution_count": 91,
   "id": "6d32ecbd",
>>>>>>> 16f8e615298eaa3884182e35d2c01dfac87a2dfe
   "metadata": {},
   "outputs": [],
   "source": [
    "def GetNewtonMethod(f,df,xn,itmax = 100000, precision=1e-12):\n",
    "    \n",
    "    error = 1.\n",
    "    it = 0\n",
    "\n",
    "    while error > precision and it < itmax:\n",
    "        \n",
    "        try:\n",
    "            \n",
    "            xn1 = xn - f(xn)/df(xn)\n",
    "            \n",
    "           \n",
    "            error = np.abs(f(xn)/df(xn))\n",
    "        \n",
    "        except ZeroDivisionError:\n",
    "            print(\"zero division\")\n",
    "            \n",
    "        xn  = xn1\n",
    "        it += 1\n",
    "    \n",
    "    \n",
    "    \n",
    "    if it == itmax:\n",
    "        return False\n",
    "    else:\n",
    "        return xn"
   ]
  },
  {
   "cell_type": "code",
<<<<<<< HEAD
   "execution_count": 9,
   "id": "2c2c2527",
=======
   "execution_count": 46,
   "id": "bdee9324",
   "metadata": {},
   "outputs": [
    {
     "data": {
      "text/plain": [
       "0"
      ]
     },
     "execution_count": 46,
     "metadata": {},
     "output_type": "execute_result"
    }
   ],
   "source": [
    "f = lambda x: x**2\n",
    "df = lambda x: 2*x\n",
    "GetNewtonMethod(f,df,0)"
   ]
  },
  {
   "cell_type": "code",
   "execution_count": 22,
   "id": "4f635ec2",
>>>>>>> 16f8e615298eaa3884182e35d2c01dfac87a2dfe
   "metadata": {},
   "outputs": [],
   "source": [
    "def GetAllRoots(f,df,x, tolerancia=8):\n",
    "    \n",
    "    Roots = np.array([])\n",
    "    \n",
    "    for i in x:\n",
    "        \n",
    "        root = GetNewtonMethod(f,df,i)\n",
    "          \n",
    "        if root != False:\n",
    "            \n",
    "            croot = np.round( root, tolerancia ) \n",
    "            \n",
    "            if croot not in Roots:\n",
    "                Roots = np.append( Roots, croot )\n",
    "                \n",
    "    \n",
    "    Roots.sort()\n",
    "    \n",
    "    return Roots"
   ]
  },
  {
   "cell_type": "code",
<<<<<<< HEAD
   "execution_count": 10,
   "id": "82737df9",
=======
   "execution_count": 4,
   "id": "f3b59b55",
>>>>>>> 16f8e615298eaa3884182e35d2c01dfac87a2dfe
   "metadata": {},
   "outputs": [],
   "source": [
    "def GetLegendre(n):\n",
    "    \n",
    "    x = sym.Symbol('x',Real=True)\n",
    "    y = sym.Symbol('y',Real=True)\n",
    "    \n",
    "    y = (x**2 - 1)**n\n",
    "    \n",
    "    p = sym.diff(y,x,n)/(2**n * np.math.factorial(n))\n",
    "    \n",
    "    return p"
   ]
  },
  {
   "cell_type": "code",
   "execution_count": null,
   "id": "0ba39188",
   "metadata": {},
   "outputs": [],
   "source": []
  },
  {
   "cell_type": "code",
<<<<<<< HEAD
   "execution_count": 11,
   "id": "f4299444",
=======
   "execution_count": 5,
   "id": "ddb1d5f4",
>>>>>>> 16f8e615298eaa3884182e35d2c01dfac87a2dfe
   "metadata": {},
   "outputs": [],
   "source": [
    "Legendre = []\n",
    "DerLegendre = []\n",
    "\n",
    "x = sym.Symbol('x',Real=True)\n",
    "n=20\n",
    "\n",
    "for i in range(n+1):\n",
    "    \n",
    "    poly = GetLegendre(i)\n",
    "    \n",
    "    Legendre.append(poly)\n",
    "    DerLegendre.append(sym.diff(poly,x,1))"
   ]
  },
  {
   "cell_type": "code",
<<<<<<< HEAD
   "execution_count": 12,
   "id": "d415d48f",
=======
   "execution_count": 94,
   "id": "fb12817a",
>>>>>>> 16f8e615298eaa3884182e35d2c01dfac87a2dfe
   "metadata": {},
   "outputs": [],
   "source": [
    "def GetRootsPolynomial(n,xi,poly,dpoly):\n",
    "    \n",
    "    x = sym.Symbol('x',Real=True)\n",
    "    \n",
    "    pn = sym.lambdify([x],poly[n],'numpy')\n",
    "    dpn = sym.lambdify([x],dpoly[n],'numpy')\n",
    "    Roots = GetAllRoots(pn,dpn,xi,tolerancia=8)\n",
    "    if (n%2) != 0:\n",
    "        Roots = np.append(Roots,0)\n",
    "        Roots.sort()\n",
    "    \n",
    "    return Roots"
   ]
  },
  {
   "cell_type": "code",
<<<<<<< HEAD
   "execution_count": 20,
   "id": "8e357b52",
=======
   "execution_count": 102,
   "id": "facf177c",
>>>>>>> 16f8e615298eaa3884182e35d2c01dfac87a2dfe
   "metadata": {},
   "outputs": [],
   "source": [
    "xi = np.linspace(-1,1,100)\n",
    "n = 3\n",
    "Roots = GetRootsPolynomial(n,xi,Legendre,DerLegendre)"
   ]
  },
  {
   "cell_type": "code",
<<<<<<< HEAD
   "execution_count": 21,
   "id": "077196a8",
=======
   "execution_count": 103,
   "id": "1be93df5",
>>>>>>> 16f8e615298eaa3884182e35d2c01dfac87a2dfe
   "metadata": {},
   "outputs": [
    {
     "data": {
      "text/plain": [
       "array([-0.77459667,  0.77459667])"
      ]
     },
<<<<<<< HEAD
     "execution_count": 21,
=======
     "execution_count": 103,
>>>>>>> 16f8e615298eaa3884182e35d2c01dfac87a2dfe
     "metadata": {},
     "output_type": "execute_result"
    }
   ],
   "source": [
    "Roots"
   ]
  },
  {
   "cell_type": "code",
<<<<<<< HEAD
   "execution_count": 22,
   "id": "dc0d92fc",
=======
   "execution_count": 104,
   "id": "66362705",
>>>>>>> 16f8e615298eaa3884182e35d2c01dfac87a2dfe
   "metadata": {},
   "outputs": [],
   "source": [
    "def GetWeights(Roots,Dpoly):\n",
    "    \n",
    "    Weights = []\n",
    "    x = sym.Symbol('x',Real=True)\n",
    "    dpn = sym.lambdify([x],Dpoly[n],'numpy')\n",
    "    \n",
    "    for r in Roots:\n",
    "        \n",
    "        Weights.append( 2/(( 1- r**2 )*dpn(r)**2) )\n",
    "        \n",
    "    return Weights"
   ]
  },
  {
   "cell_type": "code",
<<<<<<< HEAD
   "execution_count": 23,
   "id": "cfd23ece",
=======
   "execution_count": 105,
   "id": "638ec5e7",
>>>>>>> 16f8e615298eaa3884182e35d2c01dfac87a2dfe
   "metadata": {},
   "outputs": [
    {
     "data": {
      "text/plain": [
       "[0.5555555539234875, 0.5555555539234875]"
      ]
     },
<<<<<<< HEAD
     "execution_count": 23,
=======
     "execution_count": 105,
>>>>>>> 16f8e615298eaa3884182e35d2c01dfac87a2dfe
     "metadata": {},
     "output_type": "execute_result"
    }
   ],
   "source": [
    "Weights = GetWeights(Roots,DerLegendre)\n",
    "Weights"
   ]
  },
  {
   "cell_type": "code",
<<<<<<< HEAD
   "execution_count": 24,
   "id": "c07dd261",
=======
   "execution_count": 106,
   "id": "4b973b34",
>>>>>>> 16f8e615298eaa3884182e35d2c01dfac87a2dfe
   "metadata": {},
   "outputs": [],
   "source": [
    "a = 1\n",
    "b = 2\n",
    "f = lambda x : 1/(x**2)"
   ]
  },
  {
   "cell_type": "code",
<<<<<<< HEAD
   "execution_count": 25,
   "id": "0b94f6f6",
=======
   "execution_count": 107,
   "id": "ddaa285a",
>>>>>>> 16f8e615298eaa3884182e35d2c01dfac87a2dfe
   "metadata": {},
   "outputs": [],
   "source": [
    "t = 0.5*((b-a)*Roots + a + b)"
   ]
  },
  {
   "cell_type": "code",
<<<<<<< HEAD
   "execution_count": 26,
   "id": "0982d884",
=======
   "execution_count": 108,
   "id": "d0a01cb0",
>>>>>>> 16f8e615298eaa3884182e35d2c01dfac87a2dfe
   "metadata": {},
   "outputs": [
    {
     "data": {
      "text/plain": [
       "0.3023431587194152"
      ]
     },
<<<<<<< HEAD
     "execution_count": 26,
=======
     "execution_count": 108,
>>>>>>> 16f8e615298eaa3884182e35d2c01dfac87a2dfe
     "metadata": {},
     "output_type": "execute_result"
    }
   ],
   "source": [
    "Integral = 0.5*(b-a)*np.sum( Weights*f(t) )\n",
    "Integral"
   ]
  },
  {
   "cell_type": "code",
<<<<<<< HEAD
   "execution_count": null,
   "id": "c745b9e7",
=======
   "execution_count": 109,
   "id": "c2964fdf",
>>>>>>> 16f8e615298eaa3884182e35d2c01dfac87a2dfe
   "metadata": {},
   "outputs": [
    {
     "data": {
      "text/plain": [
       "array([-0.77459667,  0.        ,  0.77459667])"
      ]
     },
     "execution_count": 109,
     "metadata": {},
     "output_type": "execute_result"
    }
   ],
   "source": [
    "n = 3\n",
    "Roots = GetRootsPolynomial(n,xi,Legendre,DerLegendre)\n",
    "Roots"
   ]
  },
  {
   "cell_type": "code",
<<<<<<< HEAD
   "execution_count": null,
   "id": "a5ccae12",
=======
   "execution_count": 110,
   "id": "c121fc32",
>>>>>>> 16f8e615298eaa3884182e35d2c01dfac87a2dfe
   "metadata": {},
   "outputs": [
    {
     "data": {
      "text/plain": [
       "[0.5555555539234875, 0.8888888888888888, 0.5555555539234875]"
      ]
     },
     "execution_count": 110,
     "metadata": {},
     "output_type": "execute_result"
    }
   ],
   "source": [
    "Weights = GetWeights(Roots,DerLegendre)\n",
    "Weights"
   ]
  },
  {
   "cell_type": "code",
<<<<<<< HEAD
   "execution_count": null,
   "id": "3ad31f63",
=======
   "execution_count": 112,
   "id": "5b1cf8c7",
>>>>>>> 16f8e615298eaa3884182e35d2c01dfac87a2dfe
   "metadata": {},
   "outputs": [],
   "source": [
    "t = 0.5*((b-a)*Roots + a + b)"
   ]
  },
  {
   "cell_type": "code",
<<<<<<< HEAD
   "execution_count": null,
   "id": "fdb3b597",
=======
   "execution_count": 113,
   "id": "35d93070",
>>>>>>> 16f8e615298eaa3884182e35d2c01dfac87a2dfe
   "metadata": {},
   "outputs": [
    {
     "data": {
      "text/plain": [
       "0.49987402291694605"
      ]
     },
     "execution_count": 113,
     "metadata": {},
     "output_type": "execute_result"
    }
   ],
   "source": [
    "Integral = 0.5*(b-a)*np.sum( Weights*f(t) )\n",
    "Integral"
   ]
  }
 ],
 "metadata": {
  "kernelspec": {
   "display_name": "Python 3 (ipykernel)",
   "language": "python",
   "name": "python3"
  },
  "language_info": {
   "codemirror_mode": {
    "name": "ipython",
    "version": 3
   },
   "file_extension": ".py",
   "mimetype": "text/x-python",
   "name": "python",
   "nbconvert_exporter": "python",
   "pygments_lexer": "ipython3",
   "version": "3.9.12"
  }
 },
 "nbformat": 4,
 "nbformat_minor": 5
}
