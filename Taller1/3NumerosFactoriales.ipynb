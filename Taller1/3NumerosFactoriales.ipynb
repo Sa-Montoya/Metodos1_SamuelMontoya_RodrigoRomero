{
 "cells": [
  {
   "cell_type": "code",
   "execution_count": 29,
   "id": "ba91b0d1",
   "metadata": {},
   "outputs": [],
   "source": [
    "def factorial (numero:float):\n",
    "    if numero==0:\n",
    "        respuesta=1\n",
    "        \n",
    "    elif numero>0:\n",
    "        i=1\n",
    "        respuesta=1\n",
    "        while i <= numero:\n",
    "            respuesta=respuesta*i\n",
    "            i+=1\n",
    "    return respuesta\n",
    "        "
   ]
  },
  {
   "cell_type": "code",
   "execution_count": 30,
   "id": "035d3392",
   "metadata": {},
   "outputs": [],
   "source": [
    "def operar():\n",
    "    lista=[]\n",
    "    i=0\n",
    "    while i <=20:\n",
    "        lista.append(factorial(i))\n",
    "        i+=1\n",
    "    return lista"
   ]
  },
  {
   "cell_type": "code",
   "execution_count": 31,
   "id": "cd630192",
   "metadata": {},
   "outputs": [
    {
     "data": {
      "text/plain": [
       "[1,\n",
       " 1,\n",
       " 2,\n",
       " 6,\n",
       " 24,\n",
       " 120,\n",
       " 720,\n",
       " 5040,\n",
       " 40320,\n",
       " 362880,\n",
       " 3628800,\n",
       " 39916800,\n",
       " 479001600,\n",
       " 6227020800,\n",
       " 87178291200,\n",
       " 1307674368000,\n",
       " 20922789888000,\n",
       " 355687428096000,\n",
       " 6402373705728000,\n",
       " 121645100408832000,\n",
       " 2432902008176640000]"
      ]
     },
     "execution_count": 31,
     "metadata": {},
     "output_type": "execute_result"
    }
   ],
   "source": [
    "operar()\n"
   ]
  },
  {
   "cell_type": "code",
   "execution_count": 32,
   "id": "9ec23491",
   "metadata": {},
   "outputs": [],
   "source": [
    "def variaciones(n:float, r:float):\n",
    "    b=n-r\n",
    "    a=factorial(n)/(factorial(b))\n",
    "    return a"
   ]
  },
  {
   "cell_type": "code",
   "execution_count": 33,
   "id": "ebef6344",
   "metadata": {},
   "outputs": [
    {
     "data": {
      "text/plain": [
       "120.0"
      ]
     },
     "execution_count": 33,
     "metadata": {},
     "output_type": "execute_result"
    }
   ],
   "source": [
    "variaciones (6,3)"
   ]
  },
  {
   "cell_type": "code",
   "execution_count": 34,
   "id": "9d73d720",
   "metadata": {},
   "outputs": [],
   "source": [
    "def combinaciones(n:int, m:int):\n",
    "    if m>=n:\n",
    "        a=\"n tiene que ser mayor a m\"\n",
    "    else:\n",
    "        \n",
    "        a=factorial(n)/(factorial(m)*factorial(n-m))\n",
    "    return a"
   ]
  },
  {
   "cell_type": "code",
   "execution_count": 35,
   "id": "8cba8a5a",
   "metadata": {},
   "outputs": [
    {
     "data": {
      "text/plain": [
       "'n tiene que ser mayor a m'"
      ]
     },
     "execution_count": 35,
     "metadata": {},
     "output_type": "execute_result"
    }
   ],
   "source": [
    "combinaciones (11,22\n",
    "              )"
   ]
  },
  {
   "cell_type": "code",
   "execution_count": 36,
   "id": "bf25ba4b",
   "metadata": {},
   "outputs": [
    {
     "data": {
      "text/plain": [
       "705432.0"
      ]
     },
     "execution_count": 36,
     "metadata": {},
     "output_type": "execute_result"
    }
   ],
   "source": [
    "combinaciones(22,11)\n"
   ]
  },
  {
   "cell_type": "code",
   "execution_count": 37,
   "id": "7ca75c6e",
   "metadata": {},
   "outputs": [
    {
     "data": {
      "text/plain": [
       "352716.0"
      ]
     },
     "execution_count": 37,
     "metadata": {},
     "output_type": "execute_result"
    }
   ],
   "source": [
    "combinaciones(21,10)\n"
   ]
  },
  {
   "cell_type": "code",
   "execution_count": null,
   "id": "9797f5e6",
   "metadata": {},
   "outputs": [],
   "source": []
  },
  {
   "cell_type": "code",
   "execution_count": null,
   "id": "253e33f6",
   "metadata": {},
   "outputs": [],
   "source": []
  }
 ],
 "metadata": {
  "kernelspec": {
   "display_name": "Python 3 (ipykernel)",
   "language": "python",
   "name": "python3"
  },
  "language_info": {
   "codemirror_mode": {
    "name": "ipython",
    "version": 3
   },
   "file_extension": ".py",
   "mimetype": "text/x-python",
   "name": "python",
   "nbconvert_exporter": "python",
   "pygments_lexer": "ipython3",
   "version": "3.9.12"
  }
 },
 "nbformat": 4,
 "nbformat_minor": 5
}
