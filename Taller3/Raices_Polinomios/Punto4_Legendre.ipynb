{
 "cells": [
  {
   "cell_type": "code",
   "execution_count": 2,
   "id": "765f9f0d",
   "metadata": {},
   "outputs": [],
   "source": [
    "import numpy as np\n",
    "import matplotlib.pyplot as plt\n",
    "import sympy as sym"
   ]
  },
  {
   "cell_type": "code",
   "execution_count": 3,
   "id": "3c9c5003",
   "metadata": {},
   "outputs": [],
   "source": [
    "def Derivative(f,x,h=1e-6):\n",
    "    return (f(x+h)-f(x-h))/(2*h)"
   ]
  },
  {
   "cell_type": "code",
   "execution_count": 4,
   "id": "98dd6d9b",
   "metadata": {},
   "outputs": [],
   "source": [
    "def NewtonRaphson(f,df,xn,maxiter=1000,precision=1e-6):\n",
    "    error = 1\n",
    "    it=0\n",
    "    \n",
    "    while error > precision and it < maxiter:\n",
    "        try:\n",
    "            xn1 = xn - f(xn)/df(f,xn)\n",
    "            error = np.abs(f(xn)/df(f,xn))\n",
    "        except ZeroDivisionError:\n",
    "            print('Division por cero')  \n",
    "        xn = xn1\n",
    "        it += 1 \n",
    "    if it == maxiter:\n",
    "        return False\n",
    "    else:\n",
    "        return xn"
   ]
  },
  {
   "cell_type": "code",
   "execution_count": 5,
   "id": "fd78b91b",
   "metadata": {},
   "outputs": [],
   "source": [
    "def GetLegendrePoly(n):\n",
    "    x = sym.Symbol(\"x\", Real=True)\n",
    "    y = sym.Symbol('y',Real=True)\n",
    "    y = (x**2-1)**n\n",
    "    poly = sym.diff(y,x,n)/(2**n*np.math.factorial(n))\n",
    "    return sym.lambdify([x],poly,'numpy')"
   ]
  },
  {
   "cell_type": "code",
   "execution_count": 6,
   "id": "f1d0e4b2",
   "metadata": {},
   "outputs": [],
   "source": [
    "def FindRoots(x,f,cifras=8):\n",
    "    Roots = np.array([])\n",
    "    for i in x:\n",
    "        root = NewtonRaphson(f,Derivative,i)\n",
    "        root = np.round(root,cifras)\n",
    "        if root not in Roots:\n",
    "            Roots = np.append(Roots,root)\n",
    "    Roots.sort()\n",
    "    return Roots"
   ]
  },
  {
   "cell_type": "code",
   "execution_count": 7,
   "id": "0ddd0fa4",
   "metadata": {},
   "outputs": [],
   "source": [
    "def GetAllRoots(x,n=20):\n",
    "    Legendre = np.array([])\n",
    "    for i in range(1,n+1):\n",
    "        Roots = FindRoots(x,GetLegendrePoly(i))\n",
    "        Legendre = np.append(Legendre,[(i,Roots)])    \n",
    "    return Legendre"
   ]
  },
  {
   "cell_type": "code",
   "execution_count": 46,
   "id": "d60ccef5",
   "metadata": {},
   "outputs": [
    {
     "name": "stdout",
     "output_type": "stream",
     "text": [
      "Las raices de los primeros veinte (20) polinomios de Legendre son: \n",
      "Polinomio 1 :\n",
      "0.0, \b\b \n",
      "\n",
      "Polinomio 2 :\n",
      "-0.57735027, 0.57735027, \b\b \n",
      "\n",
      "Polinomio 3 :\n",
      "-0.77459667, 0.0, 0.77459667, \b\b \n",
      "\n",
      "Polinomio 4 :\n",
      "-0.86113631, -0.33998104, 0.33998104, 0.86113631, \b\b \n",
      "\n",
      "Polinomio 5 :\n",
      "-0.90617985, -0.53846931, 0.0, 0.53846931, 0.90617985, \b\b \n",
      "\n",
      "Polinomio 6 :\n",
      "-0.93246951, -0.66120939, -0.23861919, 0.23861919, 0.66120939, 0.93246951, \b\b \n",
      "\n",
      "Polinomio 7 :\n",
      "-0.94910791, -0.74153119, -0.40584515, -0.0, 0.40584515, 0.74153119, 0.94910791, \b\b \n",
      "\n",
      "Polinomio 8 :\n",
      "-0.96028986, -0.79666648, -0.52553241, -0.18343464, 0.18343464, 0.52553241, 0.79666648, 0.96028986, \b\b \n",
      "\n",
      "Polinomio 9 :\n",
      "-0.96816024, -0.83603111, -0.61337143, -0.32425342, -0.0, 0.32425342, 0.61337143, 0.83603111, 0.96816024, \b\b \n",
      "\n",
      "Polinomio 10 :\n",
      "-0.97390653, -0.86506337, -0.67940957, -0.43339539, -0.14887434, 0.14887434, 0.43339539, 0.67940957, 0.86506337, 0.97390653, \b\b \n",
      "\n",
      "Polinomio 11 :\n",
      "-0.97822866, -0.8870626, -0.73015201, -0.51909613, -0.26954316, 0.0, 0.26954316, 0.51909613, 0.73015201, 0.8870626, 0.97822866, \b\b \n",
      "\n",
      "Polinomio 12 :\n",
      "-0.98156063, -0.90411726, -0.76990267, -0.58731795, -0.3678315, -0.12523341, 0.12523341, 0.3678315, 0.58731795, 0.76990267, 0.90411726, 0.98156063, \b\b \n",
      "\n",
      "Polinomio 13 :\n",
      "-0.98418305, -0.9175984, -0.80157809, -0.64234934, -0.44849275, -0.23045832, -0.0, 0.23045832, 0.44849275, 0.64234934, 0.80157809, 0.9175984, 0.98418305, \b\b \n",
      "\n",
      "Polinomio 14 :\n",
      "-0.98628381, -0.92843488, -0.82720132, -0.6872929, -0.51524864, -0.31911237, -0.10805495, 0.10805495, 0.31911237, 0.51524864, 0.6872929, 0.82720132, 0.92843488, 0.98628381, \b\b \n",
      "\n",
      "Polinomio 15 :\n",
      "-0.98799252, -0.93727339, -0.84820658, -0.72441773, -0.57097217, -0.39415135, -0.20119409, 0.0, 0.20119409, 0.39415135, 0.57097217, 0.72441773, 0.84820658, 0.93727339, 0.98799252, \b\b \n",
      "\n",
      "Polinomio 16 :\n",
      "-0.98940093, -0.94457502, -0.8656312, -0.75540441, -0.61787624, -0.45801678, -0.28160355, -0.09501251, 0.09501251, 0.28160355, 0.45801678, 0.61787624, 0.75540441, 0.8656312, 0.94457502, 0.98940093, \b\b \n",
      "\n",
      "Polinomio 17 :\n",
      "-0.99057548, -0.95067552, -0.88023915, -0.781514, -0.65767116, -0.51269054, -0.35123176, -0.17848418, -0.0, 0.17848418, 0.35123176, 0.51269054, 0.65767116, 0.781514, 0.88023915, 0.95067552, 0.99057548, \b\b \n",
      "\n",
      "Polinomio 18 :\n",
      "-0.99156517, -0.95582395, -0.89260247, -0.80370496, -0.69168704, -0.55977083, -0.41175116, -0.25188623, -0.08477501, 0.08477501, 0.25188623, 0.41175116, 0.55977083, 0.69168704, 0.80370496, 0.89260247, 0.95582395, 0.99156517, \b\b \n",
      "\n",
      "Polinomio 19 :\n",
      "-0.99240684, -0.96020815, -0.9031559, -0.82271466, -0.72096618, -0.6005453, -0.46457074, -0.3165641, -0.16035865, 0.0, 0.16035865, 0.3165641, 0.46457074, 0.6005453, 0.72096618, 0.82271466, 0.9031559, 0.96020815, 0.99240684, \b\b \n",
      "\n",
      "Polinomio 20 :\n",
      "-0.9931286, -0.96397193, -0.91223443, -0.83911697, -0.74633191, -0.63605368, -0.510867, -0.37370609, -0.22778585, -0.07652652, 0.07652652, 0.22778585, 0.37370609, 0.510867, 0.63605368, 0.74633191, 0.83911697, 0.91223443, 0.96397193, 0.9931286, \b\b \n",
      "\n"
     ]
    }
   ],
   "source": [
    "x=np.linspace(-1,1,100)\n",
    "find = GetAllRoots(x)\n",
    "print('Las raices de los primeros veinte (20) polinomios de Legendre son: ')\n",
    "for i in range(0,len(find),2):\n",
    "    print('Polinomio',find[i],':')\n",
    "    for j in find[i+1]:\n",
    "        print(j,end=', ')\n",
    "    print('\\b\\b','\\n')\n",
    "    "
   ]
  }
 ],
 "metadata": {
  "kernelspec": {
   "display_name": "Python 3 (ipykernel)",
   "language": "python",
   "name": "python3"
  },
  "language_info": {
   "codemirror_mode": {
    "name": "ipython",
    "version": 3
   },
   "file_extension": ".py",
   "mimetype": "text/x-python",
   "name": "python",
   "nbconvert_exporter": "python",
   "pygments_lexer": "ipython3",
   "version": "3.9.12"
  }
 },
 "nbformat": 4,
 "nbformat_minor": 5
}
